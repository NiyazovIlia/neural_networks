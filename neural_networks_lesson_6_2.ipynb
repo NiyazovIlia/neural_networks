{
  "nbformat": 4,
  "nbformat_minor": 0,
  "metadata": {
    "colab": {
      "name": "neural networks lesson 6-2.ipynb",
      "provenance": [],
      "collapsed_sections": [],
      "mount_file_id": "1OJFB4YkDe5YMQYrEgjuUNU1T_QpxslC2",
      "authorship_tag": "ABX9TyMZWx1v/cN05MWUQsMtP0/8",
      "include_colab_link": true
    },
    "kernelspec": {
      "name": "python3",
      "display_name": "Python 3"
    },
    "language_info": {
      "name": "python"
    }
  },
  "cells": [
    {
      "cell_type": "markdown",
      "metadata": {
        "id": "view-in-github",
        "colab_type": "text"
      },
      "source": [
        "<a href=\"https://colab.research.google.com/github/NiyazovIlia/neural_networks/blob/lesson_6/neural_networks_lesson_6_2.ipynb\" target=\"_parent\"><img src=\"https://colab.research.google.com/assets/colab-badge.svg\" alt=\"Open In Colab\"/></a>"
      ]
    },
    {
      "cell_type": "code",
      "execution_count": 1,
      "metadata": {
        "id": "SinwkgHnv_5f"
      },
      "outputs": [],
      "source": [
        "from tensorflow.keras.models import Model\n",
        "from tensorflow.keras.datasets import mnist\n",
        "from tensorflow.keras.layers import Input, Conv2DTranspose, concatenate, Activation, MaxPooling2D, Conv2D, BatchNormalization\n",
        "from tensorflow.keras import backend as K\n",
        "from tensorflow.keras.optimizers import Adam\n",
        "from tensorflow.keras import utils\n",
        "from google.colab import files\n",
        "import matplotlib.pyplot as plt\n",
        "from tensorflow.keras.preprocessing import image\n",
        "from tensorflow.keras.applications import VGG16\n",
        "import numpy as np\n",
        "from PIL import Image\n",
        "import tensorflow as tf\n",
        "\n",
        "\n",
        "# Это наша метрика на Tensorflow\n",
        "\n",
        "def dice_coef(y_true, y_pred):\n",
        "    return (2. * K.sum(y_true * y_pred) + 1.) / (K.sum(y_true) + K.sum(y_pred) + 1.)\n"
      ]
    },
    {
      "cell_type": "code",
      "source": [
        "import cv2"
      ],
      "metadata": {
        "id": "PM3BeomGwAhi"
      },
      "execution_count": 2,
      "outputs": []
    },
    {
      "cell_type": "code",
      "source": [
        "PAHT_label = '/content/drive/MyDrive/labes3/'\n",
        "PAHT_image = '/content/drive/MyDrive/images3/'"
      ],
      "metadata": {
        "id": "et04ae0JwF6z"
      },
      "execution_count": 3,
      "outputs": []
    },
    {
      "cell_type": "code",
      "source": [
        "import os, fnmatch\n",
        "imag = os.listdir(PAHT_label)\n",
        "imag_label = os.listdir(PAHT_image)"
      ],
      "metadata": {
        "id": "KFhVgDdbwGzy"
      },
      "execution_count": 4,
      "outputs": []
    },
    {
      "cell_type": "code",
      "source": [
        "imag,imag_label"
      ],
      "metadata": {
        "colab": {
          "base_uri": "https://localhost:8080/"
        },
        "id": "S8zvgehVwHqy",
        "outputId": "c5730599-fb60-4079-a7fe-bb4a67bbaad8"
      },
      "execution_count": 5,
      "outputs": [
        {
          "output_type": "execute_result",
          "data": {
            "text/plain": [
              "(['0190.png',\n",
              "  '0200.png',\n",
              "  '0197.png',\n",
              "  '0119.png',\n",
              "  '0052.png',\n",
              "  '0141.png',\n",
              "  '0124.png',\n",
              "  '0031.png',\n",
              "  '0135.png',\n",
              "  '0123.png',\n",
              "  '0032.png',\n",
              "  '0064.png',\n",
              "  '0199.png',\n",
              "  '0138.png',\n",
              "  '0131.png',\n",
              "  '0184.png',\n",
              "  '0181.png',\n",
              "  '0033.png',\n",
              "  '0194.png',\n",
              "  '0091.png',\n",
              "  '0055.png',\n",
              "  '0167.png',\n",
              "  '0129.png',\n",
              "  '0102.png',\n",
              "  '0108.png',\n",
              "  '0009.png',\n",
              "  '0198.png',\n",
              "  '0186.png',\n",
              "  '0157.png',\n",
              "  '0095.png',\n",
              "  '0001.png',\n",
              "  '0087.png',\n",
              "  '0045.png',\n",
              "  '0061.png',\n",
              "  '0043.png',\n",
              "  '0130.png',\n",
              "  '0077.png',\n",
              "  '0170.png',\n",
              "  '0063.png',\n",
              "  '0040.png',\n",
              "  '0037.png',\n",
              "  '0161.png',\n",
              "  '0166.png',\n",
              "  '0179.png',\n",
              "  '0114.png',\n",
              "  '0038.png',\n",
              "  '0158.png',\n",
              "  '0082.png',\n",
              "  '0088.png',\n",
              "  '0044.png',\n",
              "  '0065.png',\n",
              "  '0093.png',\n",
              "  '0068.png',\n",
              "  '0126.png',\n",
              "  '0187.png',\n",
              "  '0012.png',\n",
              "  '0053.png',\n",
              "  '0191.png',\n",
              "  '0155.png',\n",
              "  '0067.png',\n",
              "  '0149.png',\n",
              "  '0026.png',\n",
              "  '0056.png',\n",
              "  '0066.png',\n",
              "  '0005.png',\n",
              "  '0016.png',\n",
              "  '0160.png',\n",
              "  '0159.png',\n",
              "  '0069.png',\n",
              "  '0078.png',\n",
              "  '0094.png',\n",
              "  '0017.png',\n",
              "  '0122.png',\n",
              "  '0020.png',\n",
              "  '0153.png',\n",
              "  '0030.png',\n",
              "  '0079.png',\n",
              "  '0163.png',\n",
              "  '0101.png',\n",
              "  '0169.png',\n",
              "  '0156.png',\n",
              "  '0133.png',\n",
              "  '0062.png',\n",
              "  '0142.png',\n",
              "  '0196.png',\n",
              "  '0113.png',\n",
              "  '0134.png',\n",
              "  '0041.png',\n",
              "  '0195.png',\n",
              "  '0128.png',\n",
              "  '0103.png',\n",
              "  '0092.png',\n",
              "  '0025.png',\n",
              "  '0136.png',\n",
              "  '0150.png',\n",
              "  '0137.png',\n",
              "  '0007.png',\n",
              "  '0090.png',\n",
              "  '0152.png',\n",
              "  '0118.png',\n",
              "  '0022.png',\n",
              "  '0104.png',\n",
              "  '0006.png',\n",
              "  '0148.png',\n",
              "  '0049.png',\n",
              "  '0057.png',\n",
              "  '0165.png',\n",
              "  '0188.png',\n",
              "  '0144.png',\n",
              "  '0099.png',\n",
              "  '0003.png',\n",
              "  '0151.png',\n",
              "  '0083.png',\n",
              "  '0081.png',\n",
              "  '0051.png',\n",
              "  '0116.png',\n",
              "  '0076.png',\n",
              "  '0024.png',\n",
              "  '0004.png',\n",
              "  '0002.png',\n",
              "  '0139.png',\n",
              "  '0168.png',\n",
              "  '0107.png',\n",
              "  '0180.png',\n",
              "  '0182.png',\n",
              "  '0110.png',\n",
              "  '0028.png',\n",
              "  '0011.png',\n",
              "  '0023.png',\n",
              "  '0193.png',\n",
              "  '0035.png',\n",
              "  '0029.png',\n",
              "  '0111.png',\n",
              "  '0050.png',\n",
              "  '0073.png',\n",
              "  '0145.png',\n",
              "  '0127.png',\n",
              "  '0059.png',\n",
              "  '0071.png',\n",
              "  '0060.png',\n",
              "  '0021.png',\n",
              "  '0100.png',\n",
              "  '0154.png',\n",
              "  '0018.png',\n",
              "  '0089.png',\n",
              "  '0172.png',\n",
              "  '0115.png',\n",
              "  '0109.png',\n",
              "  '0121.png',\n",
              "  '0015.png',\n",
              "  '0106.png',\n",
              "  '0097.png',\n",
              "  '0175.png',\n",
              "  '0177.png',\n",
              "  '0027.png',\n",
              "  '0132.png',\n",
              "  '0162.png',\n",
              "  '0173.png',\n",
              "  '0080.png',\n",
              "  '0171.png',\n",
              "  '0174.png',\n",
              "  '0147.png',\n",
              "  '0046.png',\n",
              "  '0183.png',\n",
              "  '0176.png',\n",
              "  '0125.png',\n",
              "  '0096.png',\n",
              "  '0084.png',\n",
              "  '0013.png',\n",
              "  '0143.png',\n",
              "  '0047.png',\n",
              "  '0164.png',\n",
              "  '0019.png',\n",
              "  '0086.png',\n",
              "  '0117.png',\n",
              "  '0039.png',\n",
              "  '0192.png',\n",
              "  '0058.png',\n",
              "  '0098.png',\n",
              "  '0014.png',\n",
              "  '0112.png',\n",
              "  '0189.png',\n",
              "  '0048.png',\n",
              "  '0085.png',\n",
              "  '0075.png',\n",
              "  '0140.png',\n",
              "  '0120.png',\n",
              "  '0036.png',\n",
              "  '0146.png',\n",
              "  '0074.png',\n",
              "  '0070.png',\n",
              "  '0105.png',\n",
              "  '0008.png',\n",
              "  '0010.png',\n",
              "  '0072.png',\n",
              "  '0178.png',\n",
              "  '0042.png',\n",
              "  '0034.png',\n",
              "  '0054.png',\n",
              "  '0185.png'],\n",
              " ['0014.png',\n",
              "  '0114.png',\n",
              "  '0002.png',\n",
              "  '0113.png',\n",
              "  '0025.png',\n",
              "  '0102.png',\n",
              "  '0069.png',\n",
              "  '0091.png',\n",
              "  '0125.png',\n",
              "  '0147.png',\n",
              "  '0036.png',\n",
              "  '0169.png',\n",
              "  '0180.png',\n",
              "  '0136.png',\n",
              "  '0191.png',\n",
              "  '0001.png',\n",
              "  '0058.png',\n",
              "  '0047.png',\n",
              "  '0158.png',\n",
              "  '0003.png',\n",
              "  '0080.png',\n",
              "  '0046.png',\n",
              "  '0008.png',\n",
              "  '0010.png',\n",
              "  '0024.png',\n",
              "  '0094.png',\n",
              "  '0119.png',\n",
              "  '0061.png',\n",
              "  '0040.png',\n",
              "  '0042.png',\n",
              "  '0027.png',\n",
              "  '0066.png',\n",
              "  '0060.png',\n",
              "  '0123.png',\n",
              "  '0097.png',\n",
              "  '0082.png',\n",
              "  '0101.png',\n",
              "  '0009.png',\n",
              "  '0078.png',\n",
              "  '0135.png',\n",
              "  '0034.png',\n",
              "  '0116.png',\n",
              "  '0044.png',\n",
              "  '0076.png',\n",
              "  '0007.png',\n",
              "  '0013.png',\n",
              "  '0062.png',\n",
              "  '0130.png',\n",
              "  '0054.png',\n",
              "  '0092.png',\n",
              "  '0117.png',\n",
              "  '0011.png',\n",
              "  '0005.png',\n",
              "  '0043.png',\n",
              "  '0068.png',\n",
              "  '0118.png',\n",
              "  '0071.png',\n",
              "  '0019.png',\n",
              "  '0124.png',\n",
              "  '0109.png',\n",
              "  '0110.png',\n",
              "  '0077.png',\n",
              "  '0122.png',\n",
              "  '0035.png',\n",
              "  '0084.png',\n",
              "  '0127.png',\n",
              "  '0128.png',\n",
              "  '0093.png',\n",
              "  '0016.png',\n",
              "  '0031.png',\n",
              "  '0026.png',\n",
              "  '0030.png',\n",
              "  '0037.png',\n",
              "  '0065.png',\n",
              "  '0063.png',\n",
              "  '0081.png',\n",
              "  '0004.png',\n",
              "  '0049.png',\n",
              "  '0072.png',\n",
              "  '0079.png',\n",
              "  '0131.png',\n",
              "  '0107.png',\n",
              "  '0053.png',\n",
              "  '0126.png',\n",
              "  '0132.png',\n",
              "  '0106.png',\n",
              "  '0006.png',\n",
              "  '0029.png',\n",
              "  '0099.png',\n",
              "  '0086.png',\n",
              "  '0085.png',\n",
              "  '0105.png',\n",
              "  '0108.png',\n",
              "  '0115.png',\n",
              "  '0051.png',\n",
              "  '0041.png',\n",
              "  '0087.png',\n",
              "  '0134.png',\n",
              "  '0059.png',\n",
              "  '0103.png',\n",
              "  '0120.png',\n",
              "  '0045.png',\n",
              "  '0095.png',\n",
              "  '0033.png',\n",
              "  '0052.png',\n",
              "  '0018.png',\n",
              "  '0056.png',\n",
              "  '0032.png',\n",
              "  '0039.png',\n",
              "  '0023.png',\n",
              "  '0048.png',\n",
              "  '0096.png',\n",
              "  '0083.png',\n",
              "  '0017.png',\n",
              "  '0050.png',\n",
              "  '0090.png',\n",
              "  '0070.png',\n",
              "  '0121.png',\n",
              "  '0038.png',\n",
              "  '0015.png',\n",
              "  '0028.png',\n",
              "  '0100.png',\n",
              "  '0111.png',\n",
              "  '0089.png',\n",
              "  '0057.png',\n",
              "  '0074.png',\n",
              "  '0022.png',\n",
              "  '0067.png',\n",
              "  '0012.png',\n",
              "  '0064.png',\n",
              "  '0098.png',\n",
              "  '0021.png',\n",
              "  '0075.png',\n",
              "  '0104.png',\n",
              "  '0112.png',\n",
              "  '0133.png',\n",
              "  '0055.png',\n",
              "  '0088.png',\n",
              "  '0129.png',\n",
              "  '0073.png',\n",
              "  '0020.png',\n",
              "  '0149.png',\n",
              "  '0165.png',\n",
              "  '0159.png',\n",
              "  '0193.png',\n",
              "  '0141.png',\n",
              "  '0181.png',\n",
              "  '0157.png',\n",
              "  '0148.png',\n",
              "  '0142.png',\n",
              "  '0173.png',\n",
              "  '0153.png',\n",
              "  '0154.png',\n",
              "  '0186.png',\n",
              "  '0199.png',\n",
              "  '0152.png',\n",
              "  '0172.png',\n",
              "  '0146.png',\n",
              "  '0194.png',\n",
              "  '0189.png',\n",
              "  '0196.png',\n",
              "  '0138.png',\n",
              "  '0188.png',\n",
              "  '0183.png',\n",
              "  '0139.png',\n",
              "  '0145.png',\n",
              "  '0162.png',\n",
              "  '0167.png',\n",
              "  '0151.png',\n",
              "  '0198.png',\n",
              "  '0197.png',\n",
              "  '0178.png',\n",
              "  '0185.png',\n",
              "  '0177.png',\n",
              "  '0200.png',\n",
              "  '0161.png',\n",
              "  '0163.png',\n",
              "  '0192.png',\n",
              "  '0171.png',\n",
              "  '0182.png',\n",
              "  '0160.png',\n",
              "  '0174.png',\n",
              "  '0170.png',\n",
              "  '0164.png',\n",
              "  '0176.png',\n",
              "  '0137.png',\n",
              "  '0166.png',\n",
              "  '0187.png',\n",
              "  '0143.png',\n",
              "  '0175.png',\n",
              "  '0155.png',\n",
              "  '0150.png',\n",
              "  '0179.png',\n",
              "  '0184.png',\n",
              "  '0168.png',\n",
              "  '0156.png',\n",
              "  '0140.png',\n",
              "  '0144.png',\n",
              "  '0195.png',\n",
              "  '0190.png'])"
            ]
          },
          "metadata": {},
          "execution_count": 5
        }
      ]
    },
    {
      "cell_type": "code",
      "source": [
        "images = []\n",
        "segments = []\n",
        "image_size = (200,600)\n",
        "for i_name in imag:\n",
        "  images.append(image.load_img(PAHT_image+i_name ,target_size=image_size))\n",
        "  segments.append(image.load_img(PAHT_label+i_name, target_size=image_size))"
      ],
      "metadata": {
        "id": "oXeAXPp4wI7a"
      },
      "execution_count": 6,
      "outputs": []
    },
    {
      "cell_type": "code",
      "source": [
        "plt.imshow(images[0].convert('RGBA'))\n",
        "plt.show()"
      ],
      "metadata": {
        "colab": {
          "base_uri": "https://localhost:8080/",
          "height": 163
        },
        "id": "C_I9ktKjwKMq",
        "outputId": "068703c1-abf6-46d7-f4fe-803cfe554b9d"
      },
      "execution_count": 7,
      "outputs": [
        {
          "output_type": "display_data",
          "data": {
            "image/png": "[encoded data removed]",
            "text/plain": [
              "<Figure size 432x288 with 1 Axes>"
            ]
          },
          "metadata": {
            "needs_background": "light"
          }
        }
      ]
    },
    {
      "cell_type": "code",
      "source": [
        "plt.imshow(segments[0].convert('RGBA'))\n",
        "plt.show()"
      ],
      "metadata": {
        "colab": {
          "base_uri": "https://localhost:8080/",
          "height": 163
        },
        "id": "UmKQOAArwK8i",
        "outputId": "49c165c0-1ef9-41fc-97a1-838ce34ad49b"
      },
      "execution_count": 8,
      "outputs": [
        {
          "output_type": "display_data",
          "data": {
            "image/png": "[encoded data removed]",
            "text/plain": [
              "<Figure size 432x288 with 1 Axes>"
            ]
          },
          "metadata": {
            "needs_background": "light"
          }
        }
      ]
    },
    {
      "cell_type": "code",
      "source": [
        "xTrain_Test = []\n",
        "\n",
        "for img in images:\n",
        "  x = image.img_to_array(img)\n",
        "  xTrain_Test.append(x)\n",
        "\n",
        "xTrain_Test = np.array(xTrain_Test)"
      ],
      "metadata": {
        "id": "1G6Y_glUwL1C"
      },
      "execution_count": 9,
      "outputs": []
    },
    {
      "cell_type": "code",
      "source": [
        "print(xTrain_Test.shape)"
      ],
      "metadata": {
        "colab": {
          "base_uri": "https://localhost:8080/"
        },
        "id": "zNXSikEcwM46",
        "outputId": "d8c05bd6-8ff1-48c4-9a3f-fd0b05ba1426"
      },
      "execution_count": 10,
      "outputs": [
        {
          "output_type": "stream",
          "name": "stdout",
          "text": [
            "(200, 200, 600, 3)\n"
          ]
        }
      ]
    },
    {
      "cell_type": "code",
      "source": [
        "def Color2index(y):\n",
        "  arr_col=[[17,255,31],[0,0,0], [0,4,255]]\n",
        "  y_ind = np.zeros((y.shape[0],y.shape[1]))\n",
        "  y_cat = np.zeros((y.shape[0],y.shape[1], len(arr_col)))\n",
        "  i = 1\n",
        "  for i_color in arr_col:\n",
        "    ind_i = np.where((y[:,:,0]==i_color[0])&(y[:,:,1]==i_color[1])&(y[:,:,2]==i_color[2]))\n",
        "    y_ind[ind_i[0],ind_i[1]] = i\n",
        "    y_cat[ind_i[0],ind_i[1], i-1] = 1 \n",
        "    i += 1\n",
        "  \n",
        "  return y_cat, y_ind, i-1\n",
        "cat_yi,ind_yi,h = Color2index(image.img_to_array(segments[0]))\n",
        "plt.imshow(ind_yi.astype(float)/h)\n",
        "plt.show()  \n"
      ],
      "metadata": {
        "colab": {
          "base_uri": "https://localhost:8080/",
          "height": 163
        },
        "id": "SEkKL3HMwOm7",
        "outputId": "841b2ba4-23b3-47ec-de55-75d039d0e05f"
      },
      "execution_count": 11,
      "outputs": [
        {
          "output_type": "display_data",
          "data": {
            "image/png": "[encoded data removed]",
            "text/plain": [
              "<Figure size 432x288 with 1 Axes>"
            ]
          },
          "metadata": {
            "needs_background": "light"
          }
        }
      ]
    },
    {
      "cell_type": "code",
      "source": [
        "yTrain_Test = []\n",
        "\n",
        "for seg in segments:\n",
        "  y_cat,_,_ = Color2index(image.img_to_array(seg))\n",
        "  yTrain_Test.append(y_cat)\n",
        "\n",
        "yTrain_Test = np.array(yTrain_Test)"
      ],
      "metadata": {
        "id": "aDCxz10KwPhC"
      },
      "execution_count": 12,
      "outputs": []
    },
    {
      "cell_type": "code",
      "source": [
        "print(yTrain_Test.shape)"
      ],
      "metadata": {
        "colab": {
          "base_uri": "https://localhost:8080/"
        },
        "id": "etNOh1kEwQXk",
        "outputId": "c798da54-52be-49c5-bc28-6808ae3d107e"
      },
      "execution_count": 13,
      "outputs": [
        {
          "output_type": "stream",
          "name": "stdout",
          "text": [
            "(200, 200, 600, 3)\n"
          ]
        }
      ]
    },
    {
      "cell_type": "code",
      "source": [
        "n = 10\n",
        "plt.imshow(segments[n].convert('RGBA'))\n",
        "plt.show()\n",
        "img = yTrain_Test[n][:,:,0]\n",
        "plt.imshow(img.astype(float))\n",
        "plt.show()"
      ],
      "metadata": {
        "colab": {
          "base_uri": "https://localhost:8080/",
          "height": 309
        },
        "id": "acEnTthEwRDs",
        "outputId": "7a077038-f9ee-44bf-9712-783f53f16a59"
      },
      "execution_count": 14,
      "outputs": [
        {
          "output_type": "display_data",
          "data": {
            "image/png": "[encoded data removed]",
            "text/plain": [
              "<Figure size 432x288 with 1 Axes>"
            ]
          },
          "metadata": {
            "needs_background": "light"
          }
        },
        {
          "output_type": "display_data",
          "data": {
            "image/png": "[encoded data removed]",
            "text/plain": [
              "<Figure size 432x288 with 1 Axes>"
            ]
          },
          "metadata": {
            "needs_background": "light"
          }
        }
      ]
    },
    {
      "cell_type": "code",
      "source": [
        "end = 50\n",
        "start = 150\n",
        "yTrain = yTrain_Test[:end,:,:,:]\n",
        "xTrain = xTrain_Test[:end,:,:,:]\n",
        "\n",
        "yTest = yTrain_Test[start:,:,:,:]\n",
        "xTest = xTrain_Test[start:,:,:,:]"
      ],
      "metadata": {
        "id": "g3MEqYFhwR0q"
      },
      "execution_count": 15,
      "outputs": []
    },
    {
      "cell_type": "code",
      "source": [
        "yTest.shape"
      ],
      "metadata": {
        "colab": {
          "base_uri": "https://localhost:8080/"
        },
        "id": "mzLNNiqDwS5K",
        "outputId": "e6c4c2bb-eb28-4e20-ec60-c2a796b5767b"
      },
      "execution_count": 16,
      "outputs": [
        {
          "output_type": "execute_result",
          "data": {
            "text/plain": [
              "(50, 200, 600, 3)"
            ]
          },
          "metadata": {},
          "execution_count": 16
        }
      ]
    },
    {
      "cell_type": "code",
      "source": [
        "print(xTrain.shape)\n",
        "print(yTrain.shape)"
      ],
      "metadata": {
        "colab": {
          "base_uri": "https://localhost:8080/"
        },
        "id": "995sFZOYwThC",
        "outputId": "9ef07790-32a0-4227-f80b-f972cff67ed5"
      },
      "execution_count": 17,
      "outputs": [
        {
          "output_type": "stream",
          "name": "stdout",
          "text": [
            "(50, 200, 600, 3)\n",
            "(50, 200, 600, 3)\n"
          ]
        }
      ]
    },
    {
      "cell_type": "code",
      "source": [
        "from tensorflow.keras.utils import plot_model"
      ],
      "metadata": {
        "id": "8xdDSGUIwUVE"
      },
      "execution_count": 18,
      "outputs": []
    },
    {
      "cell_type": "code",
      "source": [
        "def Unet(num_classes = 3, input_shape= (200, 600, 3)):\n",
        "    img_input = Input(input_shape)\n",
        "\n",
        "    # Block 1\n",
        "    x = Conv2D(64, (3, 3), padding='same', name='block1_conv1')(img_input)\n",
        "    x = BatchNormalization()(x)\n",
        "    x = Activation('relu')(x)\n",
        "\n",
        "    x = Conv2D(64, (3, 3), padding='same', name='block1_conv2')(x)\n",
        "    x = BatchNormalization()(x)\n",
        "    # запомним тензор для переноса\n",
        "    block_1_out = Activation('relu')(x)\n",
        "\n",
        "    x = MaxPooling2D()(block_1_out) # 100x300\n",
        "\n",
        "    # Block 2\n",
        "    x = Conv2D(128, (3, 3), padding='same', name='block2_conv1')(x)\n",
        "    x = BatchNormalization()(x)\n",
        "    x = Activation('relu')(x)\n",
        "\n",
        "    x = Conv2D(128, (3, 3), padding='same', name='block2_conv2')(x)\n",
        "    x = BatchNormalization()(x)\n",
        "    # запомним тензор для переноса\n",
        "    block_2_out = Activation('relu')(x)\n",
        "\n",
        "    x = MaxPooling2D()(block_2_out) # 50x150\n",
        "\n",
        "    # Block 3\n",
        "    x = Conv2D(256, (3, 3), padding='same', name='block3_conv1')(x)\n",
        "    x = BatchNormalization()(x)\n",
        "    x = Activation('relu')(x)\n",
        "\n",
        "    x = Conv2D(256, (3, 3), padding='same', name='block3_conv2')(x)\n",
        "    x = BatchNormalization()(x)\n",
        "    x = Activation('relu')(x)\n",
        "\n",
        "    x = Conv2D(256, (3, 3), padding='same', name='block3_conv3')(x)\n",
        "    x = BatchNormalization()(x)\n",
        "    # запомним тензор для переноса\n",
        "    block_3_out = Activation('relu')(x)\n",
        "\n",
        "    x = MaxPooling2D()(block_3_out) #25x75\n",
        "\n",
        "    # Block 4\n",
        "    # x = Conv2D(512, (3, 3), padding='same', name='block4_conv1')(x)\n",
        "    # x = BatchNormalization()(x)\n",
        "    # x = Activation('relu')(x)\n",
        "\n",
        "    # x = Conv2D(512, (3, 3), padding='same', name='block4_conv2')(x)\n",
        "    # x = BatchNormalization()(x)\n",
        "    # x = Activation('relu')(x)\n",
        "\n",
        "    # x = Conv2D(512, (3, 3), padding='same', name='block4_conv3')(x)\n",
        "    # x = BatchNormalization()(x)\n",
        "    # # запомним тензор для переноса\n",
        "    # block_4_out = Activation('relu')(x)\n",
        "\n",
        "    #x = MaxPooling2D()(block_4_out)\n",
        "\n",
        "    # Block 5\n",
        "    #x = Conv2D(512, (3, 3), padding='same', name='block5_conv1')(x)\n",
        "    #x = BatchNormalization()(x)\n",
        "    #x = Activation('relu')(x)\n",
        "\n",
        "    #x = Conv2D(512, (3, 3), padding='same', name='block5_conv2')(x)\n",
        "    #x = BatchNormalization()(x)\n",
        "    #x = Activation('relu')(x)\n",
        "\n",
        "    #x = Conv2D(512, (3, 3), padding='same', name='block5_conv3')(x)\n",
        "    #x = BatchNormalization()(x)\n",
        "    #x = Activation('relu')(x)\n",
        "\n",
        "\n",
        "    # Load pretrained weights.\n",
        "    #for_pretrained_weight = MaxPooling2D()(x)\n",
        "    #vgg16 = Model(img_input, for_pretrained_weight)\n",
        "    #vgg16.load_weights('vgg16_weights_tf_dim_ordering_tf_kernels_notop.h5', by_name=True)\n",
        "\n",
        "    # UP 1\n",
        "    #x = Conv2DTranspose(512, (2, 2), strides=(2, 2), padding='same')(x)\n",
        "    #x = BatchNormalization()(x)\n",
        "    #x = Activation('relu')(x)\n",
        "\n",
        "    #x = concatenate([x, block_4_out])\n",
        "    #x = Conv2D(512, (3, 3), padding='same')(x)\n",
        "    #x = BatchNormalization()(x)\n",
        "    #x = Activation('relu')(x)\n",
        "\n",
        "    #x = Conv2D(512, (3, 3), padding='same')(x)\n",
        "    #x = BatchNormalization()(x)\n",
        "    #x = Activation('relu')(x)\n",
        "\n",
        "    # UP 2\n",
        "    x = Conv2DTranspose(256, (2, 2), strides=(2, 2), padding='same')(x) #50x150\n",
        "    x = BatchNormalization()(x)\n",
        "    x = Activation('relu')(x)\n",
        "\n",
        "    # добавили перенос из понижаюшего плеча\n",
        "    x = concatenate([x, block_3_out])\n",
        "    x = Conv2D(256, (3, 3), padding='same')(x)\n",
        "    x = BatchNormalization()(x)\n",
        "    x = Activation('relu')(x)\n",
        "\n",
        "    x = Conv2D(256, (3, 3), padding='same')(x)\n",
        "    x = BatchNormalization()(x)\n",
        "    x = Activation('relu')(x)\n",
        "\n",
        "    # UP 3\n",
        "    x = Conv2DTranspose(128, (2, 2), strides=(2, 2), padding='same')(x) # 100x300\n",
        "    x = BatchNormalization()(x)\n",
        "    x = Activation('relu')(x)\n",
        "\n",
        "    # добавили перенос из понижаюшего плеча\n",
        "    x = concatenate([x, block_2_out])\n",
        "    x = Conv2D(128, (3, 3), padding='same')(x)\n",
        "    x = BatchNormalization()(x)\n",
        "    x = Activation('relu')(x)\n",
        "\n",
        "    x = Conv2D(128, (3, 3), padding='same')(x)\n",
        "    x = BatchNormalization()(x)\n",
        "    x = Activation('relu')(x)\n",
        "\n",
        "    # UP 4\n",
        "    x = Conv2DTranspose(64, (2, 2), strides=(2, 2), padding='same')(x) # 200x600\n",
        "    x = BatchNormalization()(x)\n",
        "    x = Activation('relu')(x)\n",
        "\n",
        "    # добавили перенос из понижаюшего плеча\n",
        "    x = concatenate([x, block_1_out])\n",
        "    x = Conv2D(64, (3, 3), padding='same')(x)\n",
        "    x = BatchNormalization()(x)\n",
        "    x = Activation('relu')(x)\n",
        "\n",
        "    x = Conv2D(64, (3, 3), padding='same')(x)\n",
        "    x = BatchNormalization()(x)\n",
        "    x = Activation('relu')(x)\n",
        "\n",
        "    # слой классификатор\n",
        "    x = Conv2D(num_classes, (3, 3), activation='softmax', padding='same')(x)\n",
        "\n",
        "    model = Model(img_input, x)\n",
        "    model.compile(optimizer=Adam(),\n",
        "                  loss='categorical_crossentropy',\n",
        "                  metrics=[dice_coef])\n",
        "    model.summary()\n",
        "    return model"
      ],
      "metadata": {
        "id": "bOvO9e5_wUrE"
      },
      "execution_count": 19,
      "outputs": []
    },
    {
      "cell_type": "code",
      "source": [
        "modelC = Unet(3, (200, 600, 3))"
      ],
      "metadata": {
        "colab": {
          "base_uri": "https://localhost:8080/"
        },
        "id": "swO79V8EwWMi",
        "outputId": "e227c626-cac6-4af5-9617-3d631d1bb5b7"
      },
      "execution_count": 20,
      "outputs": [
        {
          "output_type": "stream",
          "name": "stdout",
          "text": [
            "Model: \"model\"\n",
            "__________________________________________________________________________________________________\n",
            " Layer (type)                   Output Shape         Param #     Connected to                     \n",
            "==================================================================================================\n",
            " input_1 (InputLayer)           [(None, 200, 600, 3  0           []                               \n",
            "                                )]                                                                \n",
            "                                                                                                  \n",
            " block1_conv1 (Conv2D)          (None, 200, 600, 64  1792        ['input_1[0][0]']                \n",
            "                                )                                                                 \n",
            "                                                                                                  \n",
            " batch_normalization (BatchNorm  (None, 200, 600, 64  256        ['block1_conv1[0][0]']           \n",
            " alization)                     )                                                                 \n",
            "                                                                                                  \n",
            " activation (Activation)        (None, 200, 600, 64  0           ['batch_normalization[0][0]']    \n",
            "                                )                                                                 \n",
            "                                                                                                  \n",
            " block1_conv2 (Conv2D)          (None, 200, 600, 64  36928       ['activation[0][0]']             \n",
            "                                )                                                                 \n",
            "                                                                                                  \n",
            " batch_normalization_1 (BatchNo  (None, 200, 600, 64  256        ['block1_conv2[0][0]']           \n",
            " rmalization)                   )                                                                 \n",
            "                                                                                                  \n",
            " activation_1 (Activation)      (None, 200, 600, 64  0           ['batch_normalization_1[0][0]']  \n",
            "                                )                                                                 \n",
            "                                                                                                  \n",
            " max_pooling2d (MaxPooling2D)   (None, 100, 300, 64  0           ['activation_1[0][0]']           \n",
            "                                )                                                                 \n",
            "                                                                                                  \n",
            " block2_conv1 (Conv2D)          (None, 100, 300, 12  73856       ['max_pooling2d[0][0]']          \n",
            "                                8)                                                                \n",
            "                                                                                                  \n",
            " batch_normalization_2 (BatchNo  (None, 100, 300, 12  512        ['block2_conv1[0][0]']           \n",
            " rmalization)                   8)                                                                \n",
            "                                                                                                  \n",
            " activation_2 (Activation)      (None, 100, 300, 12  0           ['batch_normalization_2[0][0]']  \n",
            "                                8)                                                                \n",
            "                                                                                                  \n",
            " block2_conv2 (Conv2D)          (None, 100, 300, 12  147584      ['activation_2[0][0]']           \n",
            "                                8)                                                                \n",
            "                                                                                                  \n",
            " batch_normalization_3 (BatchNo  (None, 100, 300, 12  512        ['block2_conv2[0][0]']           \n",
            " rmalization)                   8)                                                                \n",
            "                                                                                                  \n",
            " activation_3 (Activation)      (None, 100, 300, 12  0           ['batch_normalization_3[0][0]']  \n",
            "                                8)                                                                \n",
            "                                                                                                  \n",
            " max_pooling2d_1 (MaxPooling2D)  (None, 50, 150, 128  0          ['activation_3[0][0]']           \n",
            "                                )                                                                 \n",
            "                                                                                                  \n",
            " block3_conv1 (Conv2D)          (None, 50, 150, 256  295168      ['max_pooling2d_1[0][0]']        \n",
            "                                )                                                                 \n",
            "                                                                                                  \n",
            " batch_normalization_4 (BatchNo  (None, 50, 150, 256  1024       ['block3_conv1[0][0]']           \n",
            " rmalization)                   )                                                                 \n",
            "                                                                                                  \n",
            " activation_4 (Activation)      (None, 50, 150, 256  0           ['batch_normalization_4[0][0]']  \n",
            "                                )                                                                 \n",
            "                                                                                                  \n",
            " block3_conv2 (Conv2D)          (None, 50, 150, 256  590080      ['activation_4[0][0]']           \n",
            "                                )                                                                 \n",
            "                                                                                                  \n",
            " batch_normalization_5 (BatchNo  (None, 50, 150, 256  1024       ['block3_conv2[0][0]']           \n",
            " rmalization)                   )                                                                 \n",
            "                                                                                                  \n",
            " activation_5 (Activation)      (None, 50, 150, 256  0           ['batch_normalization_5[0][0]']  \n",
            "                                )                                                                 \n",
            "                                                                                                  \n",
            " block3_conv3 (Conv2D)          (None, 50, 150, 256  590080      ['activation_5[0][0]']           \n",
            "                                )                                                                 \n",
            "                                                                                                  \n",
            " batch_normalization_6 (BatchNo  (None, 50, 150, 256  1024       ['block3_conv3[0][0]']           \n",
            " rmalization)                   )                                                                 \n",
            "                                                                                                  \n",
            " activation_6 (Activation)      (None, 50, 150, 256  0           ['batch_normalization_6[0][0]']  \n",
            "                                )                                                                 \n",
            "                                                                                                  \n",
            " max_pooling2d_2 (MaxPooling2D)  (None, 25, 75, 256)  0          ['activation_6[0][0]']           \n",
            "                                                                                                  \n",
            " conv2d_transpose (Conv2DTransp  (None, 50, 150, 256  262400     ['max_pooling2d_2[0][0]']        \n",
            " ose)                           )                                                                 \n",
            "                                                                                                  \n",
            " batch_normalization_7 (BatchNo  (None, 50, 150, 256  1024       ['conv2d_transpose[0][0]']       \n",
            " rmalization)                   )                                                                 \n",
            "                                                                                                  \n",
            " activation_7 (Activation)      (None, 50, 150, 256  0           ['batch_normalization_7[0][0]']  \n",
            "                                )                                                                 \n",
            "                                                                                                  \n",
            " concatenate (Concatenate)      (None, 50, 150, 512  0           ['activation_7[0][0]',           \n",
            "                                )                                 'activation_6[0][0]']           \n",
            "                                                                                                  \n",
            " conv2d (Conv2D)                (None, 50, 150, 256  1179904     ['concatenate[0][0]']            \n",
            "                                )                                                                 \n",
            "                                                                                                  \n",
            " batch_normalization_8 (BatchNo  (None, 50, 150, 256  1024       ['conv2d[0][0]']                 \n",
            " rmalization)                   )                                                                 \n",
            "                                                                                                  \n",
            " activation_8 (Activation)      (None, 50, 150, 256  0           ['batch_normalization_8[0][0]']  \n",
            "                                )                                                                 \n",
            "                                                                                                  \n",
            " conv2d_1 (Conv2D)              (None, 50, 150, 256  590080      ['activation_8[0][0]']           \n",
            "                                )                                                                 \n",
            "                                                                                                  \n",
            " batch_normalization_9 (BatchNo  (None, 50, 150, 256  1024       ['conv2d_1[0][0]']               \n",
            " rmalization)                   )                                                                 \n",
            "                                                                                                  \n",
            " activation_9 (Activation)      (None, 50, 150, 256  0           ['batch_normalization_9[0][0]']  \n",
            "                                )                                                                 \n",
            "                                                                                                  \n",
            " conv2d_transpose_1 (Conv2DTran  (None, 100, 300, 12  131200     ['activation_9[0][0]']           \n",
            " spose)                         8)                                                                \n",
            "                                                                                                  \n",
            " batch_normalization_10 (BatchN  (None, 100, 300, 12  512        ['conv2d_transpose_1[0][0]']     \n",
            " ormalization)                  8)                                                                \n",
            "                                                                                                  \n",
            " activation_10 (Activation)     (None, 100, 300, 12  0           ['batch_normalization_10[0][0]'] \n",
            "                                8)                                                                \n",
            "                                                                                                  \n",
            " concatenate_1 (Concatenate)    (None, 100, 300, 25  0           ['activation_10[0][0]',          \n",
            "                                6)                                'activation_3[0][0]']           \n",
            "                                                                                                  \n",
            " conv2d_2 (Conv2D)              (None, 100, 300, 12  295040      ['concatenate_1[0][0]']          \n",
            "                                8)                                                                \n",
            "                                                                                                  \n",
            " batch_normalization_11 (BatchN  (None, 100, 300, 12  512        ['conv2d_2[0][0]']               \n",
            " ormalization)                  8)                                                                \n",
            "                                                                                                  \n",
            " activation_11 (Activation)     (None, 100, 300, 12  0           ['batch_normalization_11[0][0]'] \n",
            "                                8)                                                                \n",
            "                                                                                                  \n",
            " conv2d_3 (Conv2D)              (None, 100, 300, 12  147584      ['activation_11[0][0]']          \n",
            "                                8)                                                                \n",
            "                                                                                                  \n",
            " batch_normalization_12 (BatchN  (None, 100, 300, 12  512        ['conv2d_3[0][0]']               \n",
            " ormalization)                  8)                                                                \n",
            "                                                                                                  \n",
            " activation_12 (Activation)     (None, 100, 300, 12  0           ['batch_normalization_12[0][0]'] \n",
            "                                8)                                                                \n",
            "                                                                                                  \n",
            " conv2d_transpose_2 (Conv2DTran  (None, 200, 600, 64  32832      ['activation_12[0][0]']          \n",
            " spose)                         )                                                                 \n",
            "                                                                                                  \n",
            " batch_normalization_13 (BatchN  (None, 200, 600, 64  256        ['conv2d_transpose_2[0][0]']     \n",
            " ormalization)                  )                                                                 \n",
            "                                                                                                  \n",
            " activation_13 (Activation)     (None, 200, 600, 64  0           ['batch_normalization_13[0][0]'] \n",
            "                                )                                                                 \n",
            "                                                                                                  \n",
            " concatenate_2 (Concatenate)    (None, 200, 600, 12  0           ['activation_13[0][0]',          \n",
            "                                8)                                'activation_1[0][0]']           \n",
            "                                                                                                  \n",
            " conv2d_4 (Conv2D)              (None, 200, 600, 64  73792       ['concatenate_2[0][0]']          \n",
            "                                )                                                                 \n",
            "                                                                                                  \n",
            " batch_normalization_14 (BatchN  (None, 200, 600, 64  256        ['conv2d_4[0][0]']               \n",
            " ormalization)                  )                                                                 \n",
            "                                                                                                  \n",
            " activation_14 (Activation)     (None, 200, 600, 64  0           ['batch_normalization_14[0][0]'] \n",
            "                                )                                                                 \n",
            "                                                                                                  \n",
            " conv2d_5 (Conv2D)              (None, 200, 600, 64  36928       ['activation_14[0][0]']          \n",
            "                                )                                                                 \n",
            "                                                                                                  \n",
            " batch_normalization_15 (BatchN  (None, 200, 600, 64  256        ['conv2d_5[0][0]']               \n",
            " ormalization)                  )                                                                 \n",
            "                                                                                                  \n",
            " activation_15 (Activation)     (None, 200, 600, 64  0           ['batch_normalization_15[0][0]'] \n",
            "                                )                                                                 \n",
            "                                                                                                  \n",
            " conv2d_6 (Conv2D)              (None, 200, 600, 3)  1731        ['activation_15[0][0]']          \n",
            "                                                                                                  \n",
            "==================================================================================================\n",
            "Total params: 4,496,963\n",
            "Trainable params: 4,491,971\n",
            "Non-trainable params: 4,992\n",
            "__________________________________________________________________________________________________\n"
          ]
        }
      ]
    },
    {
      "cell_type": "code",
      "source": [
        "history = modelC.fit(xTrain, yTrain, epochs=7, batch_size=1, validation_data=(xTrain, yTrain))"
      ],
      "metadata": {
        "colab": {
          "base_uri": "https://localhost:8080/"
        },
        "id": "jyks0z6pQ3xC",
        "outputId": "434c4213-4eb4-4c17-963c-4be531f6c8ed"
      },
      "execution_count": 21,
      "outputs": [
        {
          "output_type": "stream",
          "name": "stdout",
          "text": [
            "Epoch 1/7\n",
            "50/50 [==============================] - 547s 11s/step - loss: 0.1092 - dice_coef: 0.9349 - val_loss: 342.3138 - val_dice_coef: 0.0101\n",
            "Epoch 2/7\n",
            "50/50 [==============================] - 544s 11s/step - loss: 0.0477 - dice_coef: 0.9704 - val_loss: 62.1661 - val_dice_coef: 0.0104\n",
            "Epoch 3/7\n",
            "50/50 [==============================] - 554s 11s/step - loss: 0.0468 - dice_coef: 0.9710 - val_loss: 2.0789 - val_dice_coef: 0.8862\n",
            "Epoch 4/7\n",
            "50/50 [==============================] - 547s 11s/step - loss: 0.0436 - dice_coef: 0.9724 - val_loss: 0.4691 - val_dice_coef: 0.9245\n",
            "Epoch 5/7\n",
            "50/50 [==============================] - 546s 11s/step - loss: 0.0451 - dice_coef: 0.9715 - val_loss: 0.5835 - val_dice_coef: 0.9348\n",
            "Epoch 6/7\n",
            "50/50 [==============================] - 552s 11s/step - loss: 0.0438 - dice_coef: 0.9721 - val_loss: 1.4624 - val_dice_coef: 0.9166\n",
            "Epoch 7/7\n",
            "50/50 [==============================] - 555s 11s/step - loss: 0.0448 - dice_coef: 0.9722 - val_loss: 0.9882 - val_dice_coef: 0.9022\n"
          ]
        }
      ]
    },
    {
      "cell_type": "code",
      "source": [
        "pred = modelC.predict(xTest)\n",
        "print(pred.shape)"
      ],
      "metadata": {
        "id": "37LWZLHiiQ7p",
        "colab": {
          "base_uri": "https://localhost:8080/"
        },
        "outputId": "adfda650-6847-49d9-bdab-5dd20f022bd8"
      },
      "execution_count": 22,
      "outputs": [
        {
          "output_type": "stream",
          "name": "stdout",
          "text": [
            "(50, 200, 600, 3)\n"
          ]
        }
      ]
    },
    {
      "cell_type": "code",
      "source": [
        "n = 1\n",
        "class_ =0\n",
        "plt.imshow(images[start+n].convert('RGBA'))\n",
        "plt.title('входной кадр')\n",
        "plt.show()\n",
        "plt.imshow(segments[start+n].convert('RGBA'))\n",
        "plt.title('целевая разметка')\n",
        "plt.show()\n",
        "img = yTest[n][:,:,class_]\n",
        "plt.imshow(img.astype(float))\n",
        "plt.title('целевая разметка класс: '+str(class_))\n",
        "plt.show()\n",
        "img = pred[n][:,:,class_]\n",
        "plt.imshow(img.astype(float))\n",
        "plt.title('предиктивная разметка класс: '+str(class_))\n",
        "plt.show()"
      ],
      "metadata": {
        "id": "FCLn0AtqiSBJ",
        "colab": {
          "base_uri": "https://localhost:8080/",
          "height": 649
        },
        "outputId": "cf282785-1134-4cb0-c494-3a781b24df2c"
      },
      "execution_count": 29,
      "outputs": [
        {
          "output_type": "display_data",
          "data": {
            "image/png": "[encoded data removed]",
            "text/plain": [
              "<Figure size 432x288 with 1 Axes>"
            ]
          },
          "metadata": {
            "needs_background": "light"
          }
        },
        {
          "output_type": "display_data",
          "data": {
            "image/png": "[encoded data removed]",
            "text/plain": [
              "<Figure size 432x288 with 1 Axes>"
            ]
          },
          "metadata": {
            "needs_background": "light"
          }
        },
        {
          "output_type": "display_data",
          "data": {
            "image/png": "[encoded data removed]",
            "text/plain": [
              "<Figure size 432x288 with 1 Axes>"
            ]
          },
          "metadata": {
            "needs_background": "light"
          }
        },
        {
          "output_type": "display_data",
          "data": {
            "image/png": "[encoded data removed]",
            "text/plain": [
              "<Figure size 432x288 with 1 Axes>"
            ]
          },
          "metadata": {
            "needs_background": "light"
          }
        }
      ]
    }
  ]
}