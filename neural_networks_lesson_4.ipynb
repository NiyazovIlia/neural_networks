{
  "nbformat": 4,
  "nbformat_minor": 0,
  "metadata": {
    "colab": {
      "name": "neural networks lesson 4.ipynb",
      "provenance": [],
      "collapsed_sections": [],
      "authorship_tag": "ABX9TyPDoK28lH6N24s/p6dc+Kfn",
      "include_colab_link": true
    },
    "kernelspec": {
      "name": "python3",
      "display_name": "Python 3"
    },
    "language_info": {
      "name": "python"
    }
  },
  "cells": [
    {
      "cell_type": "markdown",
      "metadata": {
        "id": "view-in-github",
        "colab_type": "text"
      },
      "source": [
        "<a href=\"https://colab.research.google.com/github/NiyazovIlia/neural_networks/blob/lesson_4/neural_networks_lesson_4.ipynb\" target=\"_parent\"><img src=\"https://colab.research.google.com/assets/colab-badge.svg\" alt=\"Open In Colab\"/></a>"
      ]
    },
    {
      "cell_type": "code",
      "execution_count": null,
      "metadata": {
        "id": "LP5uQrZ6i0P-"
      },
      "outputs": [],
      "source": [
        "from __future__ import print_function\n",
        "import tensorflow.keras as keras\n",
        "from tensorflow.keras.datasets import cifar10\n",
        "from tensorflow.keras.preprocessing.image import ImageDataGenerator\n",
        "from tensorflow.keras.models import Sequential\n",
        "from tensorflow.keras.layers import Dense, Dropout, Activation, Flatten\n",
        "from tensorflow.keras.layers import Conv2D, MaxPooling2D\n",
        "import os"
      ]
    },
    {
      "cell_type": "code",
      "source": [
        "classes=['самолет', 'автомобиль', 'птица', 'кот', 'олень', 'собака', 'лягушка', 'лошадь', 'корабль', 'грузовик']"
      ],
      "metadata": {
        "id": "AxY21qiHnym4"
      },
      "execution_count": null,
      "outputs": []
    },
    {
      "cell_type": "code",
      "source": [
        "# установка параметров нейросети\n",
        "num_classes = 10\n",
        "num_predictions = 20\n",
        "save_dir = os.path.join(os.getcwd(), 'saved_models')\n",
        "model_name = 'keras_cifar10_trained_model.h5'\n",
        "\n",
        "# разделение тренировочной и тестовой выборки\n",
        "(x_train, y_train), (x_test, y_test) = cifar10.load_data()\n",
        "print('x_train shape:', x_train.shape)\n",
        "print(x_train.shape[0], 'тренировочные примеры')\n",
        "print(x_test.shape[0], 'тестовые примеры')\n",
        "\n",
        "# преобразование матрицы чисел 0-9 в бинарную матрицу чисел 0-1\n",
        "y_train = keras.utils.to_categorical(y_train, num_classes)\n",
        "y_test = keras.utils.to_categorical(y_test, num_classes)\n",
        "\n",
        "\n",
        "x_train = x_train.astype('float32')\n",
        "x_test = x_test.astype('float32')\n",
        "x_train /= 255\n",
        "x_test /= 255"
      ],
      "metadata": {
        "colab": {
          "base_uri": "https://localhost:8080/"
        },
        "id": "CbPsLZsDnz__",
        "outputId": "5e12fb38-2399-4e06-c1b5-a26376e6187f"
      },
      "execution_count": null,
      "outputs": [
        {
          "output_type": "stream",
          "name": "stdout",
          "text": [
            "Downloading data from https://www.cs.toronto.edu/~kriz/cifar-10-python.tar.gz\n",
            "170500096/170498071 [==============================] - 2s 0us/step\n",
            "170508288/170498071 [==============================] - 2s 0us/step\n",
            "x_train shape: (50000, 32, 32, 3)\n",
            "50000 тренировочные примеры\n",
            "10000 тестовые примеры\n"
          ]
        }
      ]
    },
    {
      "cell_type": "markdown",
      "source": [
        "**Стандартная модель из урока**"
      ],
      "metadata": {
        "id": "0actpWDVtpvp"
      }
    },
    {
      "cell_type": "code",
      "source": [
        "# конфигурирование слоев нейросети\n",
        "model = Sequential()\n",
        "\n",
        "# слои нейросети отвественные за свертку и max-pooling\n",
        "model.add(Conv2D(32, (3, 3), padding='same',\n",
        "                 input_shape=x_train.shape[1:]))\n",
        "model.add(Activation('relu'))\n",
        "model.add(Conv2D(32, (3, 3)))\n",
        "model.add(Activation('relu'))\n",
        "model.add(MaxPooling2D(pool_size=(2, 2)))\n",
        "model.add(Dropout( 0.25))\n",
        "\n",
        "model.add(Conv2D(64, (3, 3), padding='same'))\n",
        "model.add(Activation('relu'))\n",
        "model.add(Conv2D(64, (3, 3)))\n",
        "model.add(Activation('relu'))\n",
        "model.add(MaxPooling2D(pool_size=(2, 2)))\n",
        "model.add(Dropout(0.25))\n",
        "\n",
        "# полносвязные слои нейронной сети\n",
        "model.add(Flatten())\n",
        "model.add(Dense(512))\n",
        "model.add(Activation('relu'))\n",
        "model.add(Dropout(0.5))\n",
        "model.add(Dense(num_classes))\n",
        "model.add(Activation('softmax'))\n",
        "\n",
        "# компиляция модели\n",
        "model.compile(loss='categorical_crossentropy',\n",
        "              optimizer='SGD',\n",
        "              metrics=['accuracy'])"
      ],
      "metadata": {
        "id": "AgfcLpb2oH8I"
      },
      "execution_count": null,
      "outputs": []
    },
    {
      "cell_type": "code",
      "source": [
        "model.fit(x_train, y_train, batch_size=32, epochs=5, validation_data=(x_test, y_test))"
      ],
      "metadata": {
        "colab": {
          "base_uri": "https://localhost:8080/"
        },
        "id": "Ahfr3HrCrOny",
        "outputId": "32266347-b154-482a-9f02-66fae1a9538f"
      },
      "execution_count": null,
      "outputs": [
        {
          "output_type": "stream",
          "name": "stdout",
          "text": [
            "Epoch 1/5\n",
            "1563/1563 [==============================] - 252s 161ms/step - loss: 2.1099 - accuracy: 0.2152 - val_loss: 1.8572 - val_accuracy: 0.3584\n",
            "Epoch 2/5\n",
            "1563/1563 [==============================] - 246s 157ms/step - loss: 1.7667 - accuracy: 0.3541 - val_loss: 1.7616 - val_accuracy: 0.3608\n",
            "Epoch 3/5\n",
            "1563/1563 [==============================] - 252s 161ms/step - loss: 1.5777 - accuracy: 0.4240 - val_loss: 1.4482 - val_accuracy: 0.4877\n",
            "Epoch 4/5\n",
            "1563/1563 [==============================] - 248s 158ms/step - loss: 1.4518 - accuracy: 0.4754 - val_loss: 1.3587 - val_accuracy: 0.5093\n",
            "Epoch 5/5\n",
            "1563/1563 [==============================] - 250s 160ms/step - loss: 1.3675 - accuracy: 0.5096 - val_loss: 1.2607 - val_accuracy: 0.5509\n"
          ]
        },
        {
          "output_type": "execute_result",
          "data": {
            "text/plain": [
              "<keras.callbacks.History at 0x7f6af58d5b10>"
            ]
          },
          "metadata": {},
          "execution_count": 5
        }
      ]
    },
    {
      "cell_type": "markdown",
      "source": [
        "Добавим больше слоев dense"
      ],
      "metadata": {
        "id": "n29v72fftyM5"
      }
    },
    {
      "cell_type": "code",
      "source": [
        "# конфигурирование слоев нейросети\n",
        "model_2 = Sequential()\n",
        "\n",
        "# слои нейросети отвественные за свертку и max-pooling\n",
        "model_2.add(Conv2D(32, (3, 3), padding='same',\n",
        "                 input_shape=x_train.shape[1:]))\n",
        "model_2.add(Activation('relu'))\n",
        "model_2.add(Conv2D(32, (3, 3)))\n",
        "model_2.add(Activation('relu'))\n",
        "model_2.add(MaxPooling2D(pool_size=(2, 2)))\n",
        "model_2.add(Dropout( 0.25))\n",
        "\n",
        "model_2.add(Conv2D(64, (3, 3), padding='same'))\n",
        "model_2.add(Activation('relu'))\n",
        "model_2.add(Conv2D(64, (3, 3)))\n",
        "model_2.add(Activation('relu'))\n",
        "model_2.add(MaxPooling2D(pool_size=(2, 2)))\n",
        "model_2.add(Dropout(0.25))\n",
        "\n",
        "# полносвязные слои нейронной сети\n",
        "model_2.add(Flatten())\n",
        "model_2.add(Dense(512))\n",
        "model_2.add(Activation('relu'))\n",
        "model_2.add(Dropout(0.5))\n",
        "model_2.add(Dense(256))\n",
        "model_2.add(Activation('relu'))\n",
        "model_2.add(Dropout(0.5))\n",
        "model_2.add(Dense(num_classes))\n",
        "model_2.add(Activation('softmax'))\n",
        "\n",
        "# компиляция модели\n",
        "model_2.compile(loss='categorical_crossentropy',\n",
        "              optimizer='SGD',\n",
        "              metrics=['accuracy'])"
      ],
      "metadata": {
        "id": "dsR05MTjtw9I"
      },
      "execution_count": null,
      "outputs": []
    },
    {
      "cell_type": "code",
      "source": [
        "model_2.fit(x_train, y_train, batch_size=32, epochs=5, validation_data=(x_test, y_test))"
      ],
      "metadata": {
        "id": "3H21Oqz_uPIo",
        "colab": {
          "base_uri": "https://localhost:8080/"
        },
        "outputId": "c6fe0343-43ea-4b25-f47b-f62b3e4f32ed"
      },
      "execution_count": null,
      "outputs": [
        {
          "output_type": "stream",
          "name": "stdout",
          "text": [
            "Epoch 1/5\n",
            "1563/1563 [==============================] - 255s 162ms/step - loss: 2.1661 - accuracy: 0.1840 - val_loss: 1.9784 - val_accuracy: 0.2720\n",
            "Epoch 2/5\n",
            "1563/1563 [==============================] - 253s 162ms/step - loss: 1.9507 - accuracy: 0.2755 - val_loss: 1.8725 - val_accuracy: 0.3188\n",
            "Epoch 3/5\n",
            "1563/1563 [==============================] - 255s 163ms/step - loss: 1.7565 - accuracy: 0.3468 - val_loss: 1.6257 - val_accuracy: 0.4127\n",
            "Epoch 4/5\n",
            "1563/1563 [==============================] - 254s 162ms/step - loss: 1.6280 - accuracy: 0.3988 - val_loss: 1.4545 - val_accuracy: 0.4646\n",
            "Epoch 5/5\n",
            "1563/1563 [==============================] - 256s 164ms/step - loss: 1.5113 - accuracy: 0.4464 - val_loss: 1.3457 - val_accuracy: 0.5061\n"
          ]
        },
        {
          "output_type": "execute_result",
          "data": {
            "text/plain": [
              "<keras.callbacks.History at 0x7f6af1424590>"
            ]
          },
          "metadata": {},
          "execution_count": 7
        }
      ]
    },
    {
      "cell_type": "markdown",
      "source": [
        "Теперь попробуем увеличить ядра в 2 раза"
      ],
      "metadata": {
        "id": "cw4ka3yuxKB5"
      }
    },
    {
      "cell_type": "code",
      "source": [
        "# конфигурирование слоев нейросети\n",
        "model_3 = Sequential()\n",
        "\n",
        "# слои нейросети отвественные за свертку и max-pooling\n",
        "model_3.add(Conv2D(64, (3, 3), padding='same',\n",
        "                 input_shape=x_train.shape[1:]))\n",
        "model_3.add(Activation('relu'))\n",
        "model_3.add(Conv2D(64, (3, 3)))\n",
        "model_3.add(Activation('relu'))\n",
        "model_3.add(MaxPooling2D(pool_size=(2, 2)))\n",
        "model_3.add(Dropout(0.25))\n",
        "\n",
        "model_3.add(Conv2D(128, (3, 3), padding='same'))\n",
        "model_3.add(Activation('relu'))\n",
        "model_3.add(Conv2D(128, (3, 3)))\n",
        "model_3.add(Activation('relu'))\n",
        "model_3.add(MaxPooling2D(pool_size=(2, 2)))\n",
        "model_3.add(Dropout(0.25))\n",
        "\n",
        "# полносвязные слои нейронной сети\n",
        "model_3.add(Flatten())\n",
        "model_3.add(Dense(512))\n",
        "model_3.add(Activation('relu'))\n",
        "model_3.add(Dropout(0.5))\n",
        "model_3.add(Dense(256))\n",
        "model_3.add(Activation('relu'))\n",
        "model_3.add(Dropout(0.5))\n",
        "model_3.add(Dense(num_classes))\n",
        "model_3.add(Activation('softmax'))\n",
        "\n",
        "# компиляция модели\n",
        "model_3.compile(loss='categorical_crossentropy',\n",
        "              optimizer='SGD',\n",
        "              metrics=['accuracy'])"
      ],
      "metadata": {
        "id": "8HJCUTSyw1ik"
      },
      "execution_count": null,
      "outputs": []
    },
    {
      "cell_type": "code",
      "source": [
        "model_3.fit(x_train, y_train, batch_size=32, epochs=5, validation_data=(x_test, y_test))"
      ],
      "metadata": {
        "colab": {
          "base_uri": "https://localhost:8080/"
        },
        "id": "Q8aKKaDc2M6A",
        "outputId": "c3b0ed50-c773-4d92-82f6-d2cfa243055f"
      },
      "execution_count": null,
      "outputs": [
        {
          "output_type": "stream",
          "name": "stdout",
          "text": [
            "Epoch 1/5\n",
            "1563/1563 [==============================] - 670s 429ms/step - loss: 2.1952 - accuracy: 0.1666 - val_loss: 1.9840 - val_accuracy: 0.2740\n",
            "Epoch 2/5\n",
            "1563/1563 [==============================] - 673s 431ms/step - loss: 1.9609 - accuracy: 0.2824 - val_loss: 1.7873 - val_accuracy: 0.3720\n",
            "Epoch 3/5\n",
            "1563/1563 [==============================] - 673s 430ms/step - loss: 1.7591 - accuracy: 0.3543 - val_loss: 1.5540 - val_accuracy: 0.4313\n",
            "Epoch 4/5\n",
            "1563/1563 [==============================] - 667s 427ms/step - loss: 1.5997 - accuracy: 0.4116 - val_loss: 1.4575 - val_accuracy: 0.4728\n",
            "Epoch 5/5\n",
            "1563/1563 [==============================] - 652s 417ms/step - loss: 1.4923 - accuracy: 0.4556 - val_loss: 1.3410 - val_accuracy: 0.5133\n"
          ]
        },
        {
          "output_type": "execute_result",
          "data": {
            "text/plain": [
              "<keras.callbacks.History at 0x7f6af1224750>"
            ]
          },
          "metadata": {},
          "execution_count": 9
        }
      ]
    },
    {
      "cell_type": "markdown",
      "source": [
        "**Моя модель**"
      ],
      "metadata": {
        "id": "x_TVRibb8_sN"
      }
    },
    {
      "cell_type": "code",
      "source": [
        "# конфигурирование слоев нейросети\n",
        "model_4 = Sequential()\n",
        "\n",
        "# слои нейросети отвественные за свертку и max-pooling\n",
        "model_4.add(Conv2D(128, (3, 3), padding='same',\n",
        "                 input_shape=x_train.shape[1:]))\n",
        "model_4.add(Activation('relu'))\n",
        "model_4.add(Conv2D(128, (3, 3)))\n",
        "model_4.add(Activation('relu'))\n",
        "model_4.add(MaxPooling2D(pool_size=(2, 2)))\n",
        "model_4.add(Dropout(0.25))\n",
        "\n",
        "model_4.add(Conv2D(64, (3, 3), padding='same'))\n",
        "model_4.add(Activation('relu'))\n",
        "model_4.add(Conv2D(64, (3, 3)))\n",
        "model_4.add(Activation('relu'))\n",
        "model_4.add(MaxPooling2D(pool_size=(2, 2)))\n",
        "model_4.add(Dropout(0.25))\n",
        "\n",
        "model_4.add(Conv2D(32, (3, 3), padding='same'))\n",
        "model_4.add(Activation('relu'))\n",
        "model_4.add(Conv2D(32, (3, 3)))\n",
        "model_4.add(Activation('relu'))\n",
        "model_4.add(MaxPooling2D(pool_size=(2, 2)))\n",
        "model_4.add(Dropout(0.25))\n",
        "\n",
        "# полносвязные слои нейронной сети\n",
        "model_4.add(Flatten())\n",
        "model_4.add(Dense(512))\n",
        "model_4.add(Activation('relu'))\n",
        "model_4.add(Dropout(0.3))\n",
        "model_4.add(Dense(256))\n",
        "model_4.add(Activation('relu'))\n",
        "model_4.add(Dropout(0.3))\n",
        "model_4.add(Dense(128))\n",
        "model_4.add(Activation('relu'))\n",
        "model_4.add(Dropout(0.3))\n",
        "model_4.add(Dense(num_classes))\n",
        "model_4.add(Activation('softmax'))\n",
        "\n",
        "# компиляция модели\n",
        "model_4.compile(loss='categorical_crossentropy',\n",
        "              optimizer='SGD',\n",
        "              metrics=['accuracy'])"
      ],
      "metadata": {
        "id": "uLr4Hy8K9Dbf"
      },
      "execution_count": null,
      "outputs": []
    },
    {
      "cell_type": "code",
      "source": [
        "model_4.fit(x_train, y_train, batch_size=32, epochs=5, validation_data=(x_test, y_test))"
      ],
      "metadata": {
        "id": "uZF5OeUi9nZK",
        "colab": {
          "base_uri": "https://localhost:8080/"
        },
        "outputId": "00a9da3f-2853-4fcc-f935-7d8b62850e8b"
      },
      "execution_count": null,
      "outputs": [
        {
          "output_type": "stream",
          "name": "stdout",
          "text": [
            "Epoch 1/5\n",
            "1563/1563 [==============================] - 1145s 732ms/step - loss: 2.2657 - accuracy: 0.1350 - val_loss: 2.2565 - val_accuracy: 0.1365\n",
            "Epoch 2/5\n",
            "1563/1563 [==============================] - 1144s 732ms/step - loss: 2.1094 - accuracy: 0.1923 - val_loss: 1.9609 - val_accuracy: 0.2489\n",
            "Epoch 3/5\n",
            "1563/1563 [==============================] - 1149s 735ms/step - loss: 1.9690 - accuracy: 0.2187 - val_loss: 1.8364 - val_accuracy: 0.2830\n",
            "Epoch 4/5\n",
            "1563/1563 [==============================] - 1168s 747ms/step - loss: 1.8547 - accuracy: 0.2752 - val_loss: 1.8872 - val_accuracy: 0.2932\n",
            "Epoch 5/5\n",
            "1563/1563 [==============================] - 1145s 733ms/step - loss: 1.7565 - accuracy: 0.3235 - val_loss: 1.7289 - val_accuracy: 0.3534\n"
          ]
        },
        {
          "output_type": "execute_result",
          "data": {
            "text/plain": [
              "<keras.callbacks.History at 0x7f6af0fb6a10>"
            ]
          },
          "metadata": {},
          "execution_count": 11
        }
      ]
    },
    {
      "cell_type": "markdown",
      "source": [
        "Как можно увидеть из результатов, улучшая модель не всегда получается так, что мы улучшаем наши показатели, чем чательнее мы стоим нашу модель, тем больше по времени она будет обрабатываться, но это не гарантирует хороший результат."
      ],
      "metadata": {
        "id": "jYNnZrGEsFax"
      }
    }
  ]
}