{
  "nbformat": 4,
  "nbformat_minor": 0,
  "metadata": {
    "colab": {
      "name": "neural networks lesson 2.ipynb",
      "provenance": [],
      "authorship_tag": "ABX9TyMmTQ9IO9qme6ESjYQ4FWVw",
      "include_colab_link": true
    },
    "kernelspec": {
      "name": "python3",
      "display_name": "Python 3"
    },
    "language_info": {
      "name": "python"
    }
  },
  "cells": [
    {
      "cell_type": "markdown",
      "metadata": {
        "id": "view-in-github",
        "colab_type": "text"
      },
      "source": [
        "<a href=\"https://colab.research.google.com/github/NiyazovIlia/neural_networks/blob/lesson_2/neural_networks_lesson_2.ipynb\" target=\"_parent\"><img src=\"https://colab.research.google.com/assets/colab-badge.svg\" alt=\"Open In Colab\"/></a>"
      ]
    },
    {
      "cell_type": "code",
      "execution_count": null,
      "metadata": {
        "id": "ldBYc4ldh4_D"
      },
      "outputs": [],
      "source": [
        "# Код нейронной сети в Keras!\n",
        "###############################\n",
        "import numpy as np\n",
        "#import mnist\n",
        "from keras.models import Sequential\n",
        "from keras.layers import Dense\n",
        "from tensorflow.keras.utils import to_categorical\n",
        "from keras.datasets import fashion_mnist\n",
        "import matplotlib.pyplot as plt\n",
        "import pandas as pd\n",
        "import sklearn.metrics"
      ]
    },
    {
      "cell_type": "code",
      "source": [
        "(train_imagef,train_labelf),(test_imagef,test_labelf)=fashion_mnist.load_data()\n",
        "\n",
        "# приведем изображение к диапазону (-1,1).\n",
        "train_images = (train_imagef / 127) - 1\n",
        "test_images = (test_imagef / 127) - 1\n",
        "\n",
        "# делаем векторизацию, т.к. наши слои полносвязные и хотят на вход вектор.\n",
        "train_images = train_images.reshape((-1, 784))\n",
        "test_images = test_images.reshape((-1, 784))"
      ],
      "metadata": {
        "colab": {
          "base_uri": "https://localhost:8080/"
        },
        "id": "FPiPOO-ziPac",
        "outputId": "266a12d0-beca-4a8d-8906-29c54ef04a4c"
      },
      "execution_count": null,
      "outputs": [
        {
          "output_type": "stream",
          "name": "stdout",
          "text": [
            "Downloading data from https://storage.googleapis.com/tensorflow/tf-keras-datasets/train-labels-idx1-ubyte.gz\n",
            "32768/29515 [=================================] - 0s 0us/step\n",
            "40960/29515 [=========================================] - 0s 0us/step\n",
            "Downloading data from https://storage.googleapis.com/tensorflow/tf-keras-datasets/train-images-idx3-ubyte.gz\n",
            "26427392/26421880 [==============================] - 0s 0us/step\n",
            "26435584/26421880 [==============================] - 0s 0us/step\n",
            "Downloading data from https://storage.googleapis.com/tensorflow/tf-keras-datasets/t10k-labels-idx1-ubyte.gz\n",
            "16384/5148 [===============================================================================================] - 0s 0us/step\n",
            "Downloading data from https://storage.googleapis.com/tensorflow/tf-keras-datasets/t10k-images-idx3-ubyte.gz\n",
            "4423680/4422102 [==============================] - 0s 0us/step\n",
            "4431872/4422102 [==============================] - 0s 0us/step\n"
          ]
        }
      ]
    },
    {
      "cell_type": "code",
      "source": [
        "plt.imshow(train_imagef[11,:,:])\n",
        "plt.show()"
      ],
      "metadata": {
        "colab": {
          "base_uri": "https://localhost:8080/",
          "height": 265
        },
        "id": "WlkpfqO0iQa-",
        "outputId": "02793ada-c7ce-4533-c3c0-7d4324fe7fd4"
      },
      "execution_count": null,
      "outputs": [
        {
          "output_type": "display_data",
          "data": {
            "image/png": "[encoded data removed]",
            "text/plain": [
              "<Figure size 432x288 with 1 Axes>"
            ]
          },
          "metadata": {
            "needs_background": "light"
          }
        }
      ]
    },
    {
      "cell_type": "code",
      "source": [
        "# Build the model.\n",
        "array = [110, 100, 90]\n",
        "array1 = [100, 90, 80]\n",
        "test = {}\n",
        "\n",
        "for i in range(len(array)):\n",
        "  for j in range(len(array1)):\n",
        "    model = Sequential([\n",
        "      Dense(128, activation='tanh', input_shape=(784,)),\n",
        "      Dense(array[i], activation='tanh'), # Скрытый слой из 110 нейронов с активацией tanh\n",
        "      Dense(array1[j], activation='tanh'), # Скрытый слой k из 100 нейронов с активацией tanh\n",
        "      Dense(10, activation='softmax'),# выходной слой из 10 нейронов (сколько классов, столько нейронов) + активация softmax\n",
        "    ])\n",
        "\n",
        "    # Compile the model.\n",
        "    model.compile(\n",
        "      optimizer='adam',\n",
        "      loss='categorical_crossentropy',\n",
        "      metrics=['accuracy'],\n",
        "    )\n",
        "\n",
        "    # Train the model. Вернем результаты по потерям и метрикам для всех эпох в hh \n",
        "    hh = model.fit( \n",
        "      train_images,\n",
        "      to_categorical(train_labelf),\n",
        "      epochs=10,\n",
        "      batch_size=32, validation_split=0.2\n",
        "    )\n",
        "\n",
        "    # Evaluate the model.\n",
        "    model.evaluate(\n",
        "      test_images,\n",
        "      to_categorical(test_labelf)\n",
        "    )\n",
        "\n",
        "    test[f'{array[i]} и {array1[j]}'] = hh.history['accuracy'][9]"
      ],
      "metadata": {
        "colab": {
          "base_uri": "https://localhost:8080/"
        },
        "id": "_lC1iu0MkE-2",
        "outputId": "e7c83cc3-19fe-48ba-f9c7-dd252c8dfed7"
      },
      "execution_count": null,
      "outputs": [
        {
          "output_type": "stream",
          "name": "stdout",
          "text": [
            "Epoch 1/10\n",
            "1500/1500 [==============================] - 10s 6ms/step - loss: 0.5073 - accuracy: 0.8170 - val_loss: 0.4493 - val_accuracy: 0.8351\n",
            "Epoch 2/10\n",
            "1500/1500 [==============================] - 4s 3ms/step - loss: 0.4022 - accuracy: 0.8546 - val_loss: 0.4321 - val_accuracy: 0.8428\n",
            "Epoch 3/10\n",
            "1500/1500 [==============================] - 4s 3ms/step - loss: 0.3691 - accuracy: 0.8646 - val_loss: 0.3908 - val_accuracy: 0.8642\n",
            "Epoch 4/10\n",
            "1500/1500 [==============================] - 4s 3ms/step - loss: 0.3559 - accuracy: 0.8693 - val_loss: 0.3597 - val_accuracy: 0.8670\n",
            "Epoch 5/10\n",
            "1500/1500 [==============================] - 4s 3ms/step - loss: 0.3383 - accuracy: 0.8750 - val_loss: 0.3793 - val_accuracy: 0.8624\n",
            "Epoch 6/10\n",
            "1500/1500 [==============================] - 4s 3ms/step - loss: 0.3320 - accuracy: 0.8766 - val_loss: 0.3576 - val_accuracy: 0.8663\n",
            "Epoch 7/10\n",
            "1500/1500 [==============================] - 4s 3ms/step - loss: 0.3204 - accuracy: 0.8817 - val_loss: 0.3722 - val_accuracy: 0.8685\n",
            "Epoch 8/10\n",
            "1500/1500 [==============================] - 4s 3ms/step - loss: 0.3127 - accuracy: 0.8845 - val_loss: 0.3881 - val_accuracy: 0.8619\n",
            "Epoch 9/10\n",
            "1500/1500 [==============================] - 4s 3ms/step - loss: 0.3079 - accuracy: 0.8858 - val_loss: 0.3642 - val_accuracy: 0.8677\n",
            "Epoch 10/10\n",
            "1500/1500 [==============================] - 4s 3ms/step - loss: 0.2995 - accuracy: 0.8897 - val_loss: 0.3760 - val_accuracy: 0.8644\n",
            "313/313 [==============================] - 1s 2ms/step - loss: 0.4014 - accuracy: 0.8589\n",
            "Epoch 1/10\n",
            "1500/1500 [==============================] - 5s 3ms/step - loss: 0.5117 - accuracy: 0.8138 - val_loss: 0.4580 - val_accuracy: 0.8359\n",
            "Epoch 2/10\n",
            "1500/1500 [==============================] - 4s 3ms/step - loss: 0.4009 - accuracy: 0.8537 - val_loss: 0.4037 - val_accuracy: 0.8519\n",
            "Epoch 3/10\n",
            "1500/1500 [==============================] - 4s 3ms/step - loss: 0.3721 - accuracy: 0.8638 - val_loss: 0.3981 - val_accuracy: 0.8527\n",
            "Epoch 4/10\n",
            "1500/1500 [==============================] - 4s 3ms/step - loss: 0.3516 - accuracy: 0.8705 - val_loss: 0.3998 - val_accuracy: 0.8554\n",
            "Epoch 5/10\n",
            "1500/1500 [==============================] - 4s 3ms/step - loss: 0.3357 - accuracy: 0.8752 - val_loss: 0.3458 - val_accuracy: 0.8738\n",
            "Epoch 6/10\n",
            "1500/1500 [==============================] - 5s 3ms/step - loss: 0.3299 - accuracy: 0.8800 - val_loss: 0.3524 - val_accuracy: 0.8738\n",
            "Epoch 7/10\n",
            "1500/1500 [==============================] - 4s 3ms/step - loss: 0.3196 - accuracy: 0.8831 - val_loss: 0.3510 - val_accuracy: 0.8777\n",
            "Epoch 8/10\n",
            "1500/1500 [==============================] - 4s 3ms/step - loss: 0.3110 - accuracy: 0.8862 - val_loss: 0.3834 - val_accuracy: 0.8630\n",
            "Epoch 9/10\n",
            "1500/1500 [==============================] - 4s 3ms/step - loss: 0.3068 - accuracy: 0.8863 - val_loss: 0.3634 - val_accuracy: 0.8696\n",
            "Epoch 10/10\n",
            "1500/1500 [==============================] - 4s 3ms/step - loss: 0.2951 - accuracy: 0.8908 - val_loss: 0.3703 - val_accuracy: 0.8689\n",
            "313/313 [==============================] - 1s 2ms/step - loss: 0.3931 - accuracy: 0.8608\n",
            "Epoch 1/10\n",
            "1500/1500 [==============================] - 5s 3ms/step - loss: 0.5006 - accuracy: 0.8200 - val_loss: 0.4138 - val_accuracy: 0.8498\n",
            "Epoch 2/10\n",
            "1500/1500 [==============================] - 4s 3ms/step - loss: 0.4006 - accuracy: 0.8553 - val_loss: 0.4149 - val_accuracy: 0.8487\n",
            "Epoch 3/10\n",
            "1500/1500 [==============================] - 4s 3ms/step - loss: 0.3742 - accuracy: 0.8643 - val_loss: 0.3904 - val_accuracy: 0.8601\n",
            "Epoch 4/10\n",
            "1500/1500 [==============================] - 4s 3ms/step - loss: 0.3519 - accuracy: 0.8710 - val_loss: 0.3822 - val_accuracy: 0.8615\n",
            "Epoch 5/10\n",
            "1500/1500 [==============================] - 4s 3ms/step - loss: 0.3422 - accuracy: 0.8755 - val_loss: 0.3745 - val_accuracy: 0.8623\n",
            "Epoch 6/10\n",
            "1500/1500 [==============================] - 4s 3ms/step - loss: 0.3281 - accuracy: 0.8804 - val_loss: 0.3611 - val_accuracy: 0.8709\n",
            "Epoch 7/10\n",
            "1500/1500 [==============================] - 4s 3ms/step - loss: 0.3242 - accuracy: 0.8827 - val_loss: 0.3684 - val_accuracy: 0.8702\n",
            "Epoch 8/10\n",
            "1500/1500 [==============================] - 4s 3ms/step - loss: 0.3157 - accuracy: 0.8839 - val_loss: 0.3548 - val_accuracy: 0.8751\n",
            "Epoch 9/10\n",
            "1500/1500 [==============================] - 4s 3ms/step - loss: 0.3065 - accuracy: 0.8876 - val_loss: 0.3470 - val_accuracy: 0.8753\n",
            "Epoch 10/10\n",
            "1500/1500 [==============================] - 4s 3ms/step - loss: 0.2999 - accuracy: 0.8904 - val_loss: 0.3462 - val_accuracy: 0.8738\n",
            "313/313 [==============================] - 1s 2ms/step - loss: 0.3692 - accuracy: 0.8672\n",
            "Epoch 1/10\n",
            "1500/1500 [==============================] - 5s 3ms/step - loss: 0.5065 - accuracy: 0.8190 - val_loss: 0.4289 - val_accuracy: 0.8487\n",
            "Epoch 2/10\n",
            "1500/1500 [==============================] - 4s 3ms/step - loss: 0.4004 - accuracy: 0.8539 - val_loss: 0.4069 - val_accuracy: 0.8536\n",
            "Epoch 3/10\n",
            "1500/1500 [==============================] - 4s 3ms/step - loss: 0.3742 - accuracy: 0.8624 - val_loss: 0.3978 - val_accuracy: 0.8579\n",
            "Epoch 4/10\n",
            "1500/1500 [==============================] - 4s 3ms/step - loss: 0.3512 - accuracy: 0.8709 - val_loss: 0.3737 - val_accuracy: 0.8668\n",
            "Epoch 5/10\n",
            "1500/1500 [==============================] - 4s 3ms/step - loss: 0.3392 - accuracy: 0.8745 - val_loss: 0.3895 - val_accuracy: 0.8619\n",
            "Epoch 6/10\n",
            "1500/1500 [==============================] - 4s 3ms/step - loss: 0.3294 - accuracy: 0.8774 - val_loss: 0.3948 - val_accuracy: 0.8602\n",
            "Epoch 7/10\n",
            "1500/1500 [==============================] - 4s 3ms/step - loss: 0.3229 - accuracy: 0.8813 - val_loss: 0.3646 - val_accuracy: 0.8704\n",
            "Epoch 8/10\n",
            "1500/1500 [==============================] - 4s 3ms/step - loss: 0.3092 - accuracy: 0.8871 - val_loss: 0.3777 - val_accuracy: 0.8671\n",
            "Epoch 9/10\n",
            "1500/1500 [==============================] - 4s 3ms/step - loss: 0.3062 - accuracy: 0.8870 - val_loss: 0.3604 - val_accuracy: 0.8732\n",
            "Epoch 10/10\n",
            "1500/1500 [==============================] - 4s 3ms/step - loss: 0.2949 - accuracy: 0.8912 - val_loss: 0.3627 - val_accuracy: 0.8705\n",
            "313/313 [==============================] - 1s 2ms/step - loss: 0.3826 - accuracy: 0.8596\n",
            "Epoch 1/10\n",
            "1500/1500 [==============================] - 5s 3ms/step - loss: 0.5114 - accuracy: 0.8136 - val_loss: 0.4255 - val_accuracy: 0.8474\n",
            "Epoch 2/10\n",
            "1500/1500 [==============================] - 4s 3ms/step - loss: 0.4032 - accuracy: 0.8542 - val_loss: 0.4287 - val_accuracy: 0.8438\n",
            "Epoch 3/10\n",
            "1500/1500 [==============================] - 4s 3ms/step - loss: 0.3716 - accuracy: 0.8662 - val_loss: 0.4169 - val_accuracy: 0.8472\n",
            "Epoch 4/10\n",
            "1500/1500 [==============================] - 4s 3ms/step - loss: 0.3580 - accuracy: 0.8692 - val_loss: 0.4051 - val_accuracy: 0.8497\n",
            "Epoch 5/10\n",
            "1500/1500 [==============================] - 4s 3ms/step - loss: 0.3436 - accuracy: 0.8733 - val_loss: 0.4055 - val_accuracy: 0.8541\n",
            "Epoch 6/10\n",
            "1500/1500 [==============================] - 4s 3ms/step - loss: 0.3305 - accuracy: 0.8795 - val_loss: 0.3689 - val_accuracy: 0.8666\n",
            "Epoch 7/10\n",
            "1500/1500 [==============================] - 4s 3ms/step - loss: 0.3205 - accuracy: 0.8823 - val_loss: 0.3577 - val_accuracy: 0.8712\n",
            "Epoch 8/10\n",
            "1500/1500 [==============================] - 4s 3ms/step - loss: 0.3151 - accuracy: 0.8839 - val_loss: 0.3669 - val_accuracy: 0.8686\n",
            "Epoch 9/10\n",
            "1500/1500 [==============================] - 4s 3ms/step - loss: 0.3064 - accuracy: 0.8856 - val_loss: 0.3765 - val_accuracy: 0.8623\n",
            "Epoch 10/10\n",
            "1500/1500 [==============================] - 4s 3ms/step - loss: 0.3047 - accuracy: 0.8880 - val_loss: 0.3542 - val_accuracy: 0.8758\n",
            "313/313 [==============================] - 1s 2ms/step - loss: 0.3724 - accuracy: 0.8677\n",
            "Epoch 1/10\n",
            "1500/1500 [==============================] - 5s 3ms/step - loss: 0.5038 - accuracy: 0.8156 - val_loss: 0.4120 - val_accuracy: 0.8505\n",
            "Epoch 2/10\n",
            "1500/1500 [==============================] - 4s 3ms/step - loss: 0.3960 - accuracy: 0.8549 - val_loss: 0.3983 - val_accuracy: 0.8544\n",
            "Epoch 3/10\n",
            "1500/1500 [==============================] - 4s 3ms/step - loss: 0.3685 - accuracy: 0.8655 - val_loss: 0.3761 - val_accuracy: 0.8628\n",
            "Epoch 4/10\n",
            "1500/1500 [==============================] - 4s 3ms/step - loss: 0.3536 - accuracy: 0.8691 - val_loss: 0.3729 - val_accuracy: 0.8637\n",
            "Epoch 5/10\n",
            "1500/1500 [==============================] - 4s 3ms/step - loss: 0.3376 - accuracy: 0.8755 - val_loss: 0.3755 - val_accuracy: 0.8634\n",
            "Epoch 6/10\n",
            "1500/1500 [==============================] - 4s 3ms/step - loss: 0.3224 - accuracy: 0.8821 - val_loss: 0.3867 - val_accuracy: 0.8571\n",
            "Epoch 7/10\n",
            "1500/1500 [==============================] - 4s 3ms/step - loss: 0.3199 - accuracy: 0.8828 - val_loss: 0.3674 - val_accuracy: 0.8645\n",
            "Epoch 8/10\n",
            "1500/1500 [==============================] - 4s 3ms/step - loss: 0.3132 - accuracy: 0.8837 - val_loss: 0.3565 - val_accuracy: 0.8733\n",
            "Epoch 9/10\n",
            "1500/1500 [==============================] - 4s 3ms/step - loss: 0.3047 - accuracy: 0.8874 - val_loss: 0.3608 - val_accuracy: 0.8708\n",
            "Epoch 10/10\n",
            "1500/1500 [==============================] - 4s 3ms/step - loss: 0.2980 - accuracy: 0.8876 - val_loss: 0.3599 - val_accuracy: 0.8728\n",
            "313/313 [==============================] - 1s 2ms/step - loss: 0.3858 - accuracy: 0.8653\n",
            "Epoch 1/10\n",
            "1500/1500 [==============================] - 5s 3ms/step - loss: 0.5044 - accuracy: 0.8167 - val_loss: 0.4383 - val_accuracy: 0.8380\n",
            "Epoch 2/10\n",
            "1500/1500 [==============================] - 4s 3ms/step - loss: 0.4038 - accuracy: 0.8520 - val_loss: 0.4010 - val_accuracy: 0.8547\n",
            "Epoch 3/10\n",
            "1500/1500 [==============================] - 4s 3ms/step - loss: 0.3738 - accuracy: 0.8622 - val_loss: 0.3752 - val_accuracy: 0.8651\n",
            "Epoch 4/10\n",
            "1500/1500 [==============================] - 4s 3ms/step - loss: 0.3546 - accuracy: 0.8699 - val_loss: 0.3752 - val_accuracy: 0.8612\n",
            "Epoch 5/10\n",
            "1500/1500 [==============================] - 4s 3ms/step - loss: 0.3438 - accuracy: 0.8720 - val_loss: 0.3859 - val_accuracy: 0.8628\n",
            "Epoch 6/10\n",
            "1500/1500 [==============================] - 4s 3ms/step - loss: 0.3319 - accuracy: 0.8783 - val_loss: 0.3644 - val_accuracy: 0.8702\n",
            "Epoch 7/10\n",
            "1500/1500 [==============================] - 4s 3ms/step - loss: 0.3179 - accuracy: 0.8819 - val_loss: 0.3431 - val_accuracy: 0.8758\n",
            "Epoch 8/10\n",
            "1500/1500 [==============================] - 4s 3ms/step - loss: 0.3143 - accuracy: 0.8846 - val_loss: 0.3520 - val_accuracy: 0.8735\n",
            "Epoch 9/10\n",
            "1500/1500 [==============================] - 4s 3ms/step - loss: 0.3034 - accuracy: 0.8875 - val_loss: 0.3634 - val_accuracy: 0.8716\n",
            "Epoch 10/10\n",
            "1500/1500 [==============================] - 4s 3ms/step - loss: 0.2976 - accuracy: 0.8883 - val_loss: 0.3500 - val_accuracy: 0.8764\n",
            "313/313 [==============================] - 1s 2ms/step - loss: 0.3765 - accuracy: 0.8697\n",
            "Epoch 1/10\n",
            "1500/1500 [==============================] - 5s 3ms/step - loss: 0.5036 - accuracy: 0.8192 - val_loss: 0.4335 - val_accuracy: 0.8434\n",
            "Epoch 2/10\n",
            "1500/1500 [==============================] - 4s 3ms/step - loss: 0.4010 - accuracy: 0.8530 - val_loss: 0.3976 - val_accuracy: 0.8580\n",
            "Epoch 3/10\n",
            "1500/1500 [==============================] - 4s 3ms/step - loss: 0.3704 - accuracy: 0.8638 - val_loss: 0.3901 - val_accuracy: 0.8566\n",
            "Epoch 4/10\n",
            "1500/1500 [==============================] - 4s 3ms/step - loss: 0.3492 - accuracy: 0.8718 - val_loss: 0.3731 - val_accuracy: 0.8655\n",
            "Epoch 5/10\n",
            "1500/1500 [==============================] - 4s 3ms/step - loss: 0.3393 - accuracy: 0.8746 - val_loss: 0.3630 - val_accuracy: 0.8699\n",
            "Epoch 6/10\n",
            "1500/1500 [==============================] - 4s 3ms/step - loss: 0.3255 - accuracy: 0.8810 - val_loss: 0.3621 - val_accuracy: 0.8688\n",
            "Epoch 7/10\n",
            "1500/1500 [==============================] - 4s 3ms/step - loss: 0.3195 - accuracy: 0.8834 - val_loss: 0.3573 - val_accuracy: 0.8737\n",
            "Epoch 8/10\n",
            "1500/1500 [==============================] - 4s 3ms/step - loss: 0.3093 - accuracy: 0.8861 - val_loss: 0.3787 - val_accuracy: 0.8655\n",
            "Epoch 9/10\n",
            "1500/1500 [==============================] - 4s 3ms/step - loss: 0.2995 - accuracy: 0.8899 - val_loss: 0.3565 - val_accuracy: 0.8738\n",
            "Epoch 10/10\n",
            "1500/1500 [==============================] - 4s 3ms/step - loss: 0.2999 - accuracy: 0.8890 - val_loss: 0.3785 - val_accuracy: 0.8654\n",
            "313/313 [==============================] - 1s 2ms/step - loss: 0.4095 - accuracy: 0.8546\n",
            "Epoch 1/10\n",
            "1500/1500 [==============================] - 5s 3ms/step - loss: 0.5079 - accuracy: 0.8159 - val_loss: 0.4562 - val_accuracy: 0.8389\n",
            "Epoch 2/10\n",
            "1500/1500 [==============================] - 4s 3ms/step - loss: 0.3991 - accuracy: 0.8533 - val_loss: 0.4016 - val_accuracy: 0.8522\n",
            "Epoch 3/10\n",
            "1500/1500 [==============================] - 4s 3ms/step - loss: 0.3711 - accuracy: 0.8650 - val_loss: 0.3942 - val_accuracy: 0.8588\n",
            "Epoch 4/10\n",
            "1500/1500 [==============================] - 4s 3ms/step - loss: 0.3550 - accuracy: 0.8695 - val_loss: 0.3769 - val_accuracy: 0.8619\n",
            "Epoch 5/10\n",
            "1500/1500 [==============================] - 4s 3ms/step - loss: 0.3430 - accuracy: 0.8737 - val_loss: 0.3803 - val_accuracy: 0.8617\n",
            "Epoch 6/10\n",
            "1500/1500 [==============================] - 4s 3ms/step - loss: 0.3304 - accuracy: 0.8781 - val_loss: 0.3527 - val_accuracy: 0.8699\n",
            "Epoch 7/10\n",
            "1500/1500 [==============================] - 4s 3ms/step - loss: 0.3189 - accuracy: 0.8820 - val_loss: 0.3733 - val_accuracy: 0.8658\n",
            "Epoch 8/10\n",
            "1500/1500 [==============================] - 4s 3ms/step - loss: 0.3101 - accuracy: 0.8848 - val_loss: 0.3550 - val_accuracy: 0.8698\n",
            "Epoch 9/10\n",
            "1500/1500 [==============================] - 4s 3ms/step - loss: 0.3048 - accuracy: 0.8879 - val_loss: 0.3581 - val_accuracy: 0.8720\n",
            "Epoch 10/10\n",
            "1500/1500 [==============================] - 4s 3ms/step - loss: 0.2974 - accuracy: 0.8898 - val_loss: 0.3467 - val_accuracy: 0.8773\n",
            "313/313 [==============================] - 1s 2ms/step - loss: 0.3763 - accuracy: 0.8694\n"
          ]
        }
      ]
    },
    {
      "cell_type": "code",
      "source": [
        "test"
      ],
      "metadata": {
        "colab": {
          "base_uri": "https://localhost:8080/"
        },
        "id": "61dMwa42MzDH",
        "outputId": "310d5624-7fb4-4e1e-b3c7-49a26f3ec851"
      },
      "execution_count": null,
      "outputs": [
        {
          "output_type": "execute_result",
          "data": {
            "text/plain": [
              "{'100 и 100': 0.8912083506584167,\n",
              " '100 и 80': 0.8875625133514404,\n",
              " '100 и 90': 0.8880416750907898,\n",
              " '110 и 100': 0.8896874785423279,\n",
              " '110 и 80': 0.8903541564941406,\n",
              " '110 и 90': 0.8908125162124634,\n",
              " '90 и 100': 0.8883125185966492,\n",
              " '90 и 80': 0.8897708058357239,\n",
              " '90 и 90': 0.8889999985694885}"
            ]
          },
          "metadata": {},
          "execution_count": 5
        }
      ]
    },
    {
      "cell_type": "markdown",
      "source": [
        "**2 слоя**"
      ],
      "metadata": {
        "id": "m114xkMKRCsf"
      }
    },
    {
      "cell_type": "code",
      "source": [
        "model = Sequential([\n",
        "      Dense(128, activation='tanh', input_shape=(784,)),\n",
        "      Dense(110, activation='tanh'), # Скрытый слой из 110 нейронов с активацией tanh\n",
        "      Dense(100, activation='tanh'), # Скрытый слой k из 100 нейронов с активацией tanh\n",
        "      Dense(10, activation='softmax'),# выходной слой из 10 нейронов (сколько классов, столько нейронов) + активация softmax\n",
        "    ])\n",
        "\n",
        "    # Compile the model.\n",
        "model.compile(\n",
        "      optimizer='adam',\n",
        "      loss='categorical_crossentropy',\n",
        "      metrics=['accuracy'],\n",
        "    )\n",
        "\n",
        "    # Train the model. Вернем результаты по потерям и метрикам для всех эпох в hh \n",
        "hh = model.fit( \n",
        "      train_images,\n",
        "      to_categorical(train_labelf),\n",
        "      epochs=10,\n",
        "      batch_size=32, validation_split=0.2\n",
        "    )\n",
        "\n",
        "    # Evaluate the model.\n",
        "model.evaluate(\n",
        "      test_images,\n",
        "      to_categorical(test_labelf)\n",
        "    )"
      ],
      "metadata": {
        "colab": {
          "base_uri": "https://localhost:8080/"
        },
        "id": "d7HEjAvrQlKH",
        "outputId": "d3e98db5-b190-4d31-bbd3-0f372b5106fb"
      },
      "execution_count": null,
      "outputs": [
        {
          "output_type": "stream",
          "name": "stdout",
          "text": [
            "Epoch 1/10\n",
            "1500/1500 [==============================] - 5s 3ms/step - loss: 0.5047 - accuracy: 0.8176 - val_loss: 0.4086 - val_accuracy: 0.8478\n",
            "Epoch 2/10\n",
            "1500/1500 [==============================] - 4s 3ms/step - loss: 0.4012 - accuracy: 0.8537 - val_loss: 0.3951 - val_accuracy: 0.8537\n",
            "Epoch 3/10\n",
            "1500/1500 [==============================] - 4s 3ms/step - loss: 0.3749 - accuracy: 0.8622 - val_loss: 0.3964 - val_accuracy: 0.8568\n",
            "Epoch 4/10\n",
            "1500/1500 [==============================] - 4s 3ms/step - loss: 0.3560 - accuracy: 0.8702 - val_loss: 0.3869 - val_accuracy: 0.8587\n",
            "Epoch 5/10\n",
            "1500/1500 [==============================] - 4s 3ms/step - loss: 0.3407 - accuracy: 0.8755 - val_loss: 0.3602 - val_accuracy: 0.8716\n",
            "Epoch 6/10\n",
            "1500/1500 [==============================] - 4s 3ms/step - loss: 0.3314 - accuracy: 0.8782 - val_loss: 0.3525 - val_accuracy: 0.8748\n",
            "Epoch 7/10\n",
            "1500/1500 [==============================] - 4s 3ms/step - loss: 0.3181 - accuracy: 0.8827 - val_loss: 0.3738 - val_accuracy: 0.8660\n",
            "Epoch 8/10\n",
            "1500/1500 [==============================] - 4s 3ms/step - loss: 0.3106 - accuracy: 0.8856 - val_loss: 0.3632 - val_accuracy: 0.8701\n",
            "Epoch 9/10\n",
            "1500/1500 [==============================] - 4s 3ms/step - loss: 0.3039 - accuracy: 0.8887 - val_loss: 0.3680 - val_accuracy: 0.8674\n",
            "Epoch 10/10\n",
            "1500/1500 [==============================] - 4s 3ms/step - loss: 0.2977 - accuracy: 0.8900 - val_loss: 0.3582 - val_accuracy: 0.8760\n",
            "313/313 [==============================] - 1s 2ms/step - loss: 0.3785 - accuracy: 0.8669\n"
          ]
        },
        {
          "output_type": "execute_result",
          "data": {
            "text/plain": [
              "[0.3785357177257538, 0.8669000267982483]"
            ]
          },
          "metadata": {},
          "execution_count": 6
        }
      ]
    },
    {
      "cell_type": "markdown",
      "source": [
        "**3 слоя**"
      ],
      "metadata": {
        "id": "vP48C8yaRF6X"
      }
    },
    {
      "cell_type": "code",
      "source": [
        "model = Sequential([\n",
        "      Dense(128, activation='tanh', input_shape=(784,)),\n",
        "      Dense(110, activation='tanh'), # Скрытый слой из 110 нейронов с активацией tanh\n",
        "      Dense(100, activation='tanh'), # Скрытый слой k из 100 нейронов с активацией tanh\n",
        "      Dense(90, activation='tanh'), # Скрытый слой k из 100 нейронов с активацией tanh\n",
        "      Dense(10, activation='softmax'),# выходной слой из 10 нейронов (сколько классов, столько нейронов) + активация softmax\n",
        "    ])\n",
        "\n",
        "    # Compile the model.\n",
        "model.compile(\n",
        "      optimizer='adam',\n",
        "      loss='categorical_crossentropy',\n",
        "      metrics=['accuracy'],\n",
        "    )\n",
        "\n",
        "    # Train the model. Вернем результаты по потерям и метрикам для всех эпох в hh \n",
        "hh = model.fit( \n",
        "      train_images,\n",
        "      to_categorical(train_labelf),\n",
        "      epochs=10,\n",
        "      batch_size=32, validation_split=0.2\n",
        "    )\n",
        "\n",
        "    # Evaluate the model.\n",
        "model.evaluate(\n",
        "      test_images,\n",
        "      to_categorical(test_labelf)\n",
        "    )"
      ],
      "metadata": {
        "colab": {
          "base_uri": "https://localhost:8080/"
        },
        "id": "RyFl3cl6Qrxn",
        "outputId": "f3375e98-4019-42bd-d418-0e73b405c0d6"
      },
      "execution_count": null,
      "outputs": [
        {
          "output_type": "stream",
          "name": "stdout",
          "text": [
            "Epoch 1/10\n",
            "1500/1500 [==============================] - 5s 3ms/step - loss: 0.5175 - accuracy: 0.8148 - val_loss: 0.4636 - val_accuracy: 0.8260\n",
            "Epoch 2/10\n",
            "1500/1500 [==============================] - 4s 3ms/step - loss: 0.4131 - accuracy: 0.8497 - val_loss: 0.4106 - val_accuracy: 0.8497\n",
            "Epoch 3/10\n",
            "1500/1500 [==============================] - 5s 3ms/step - loss: 0.3816 - accuracy: 0.8595 - val_loss: 0.3823 - val_accuracy: 0.8614\n",
            "Epoch 4/10\n",
            "1500/1500 [==============================] - 5s 3ms/step - loss: 0.3641 - accuracy: 0.8677 - val_loss: 0.3808 - val_accuracy: 0.8622\n",
            "Epoch 5/10\n",
            "1500/1500 [==============================] - 5s 3ms/step - loss: 0.3511 - accuracy: 0.8718 - val_loss: 0.4041 - val_accuracy: 0.8537\n",
            "Epoch 6/10\n",
            "1500/1500 [==============================] - 5s 3ms/step - loss: 0.3410 - accuracy: 0.8752 - val_loss: 0.3889 - val_accuracy: 0.8561\n",
            "Epoch 7/10\n",
            "1500/1500 [==============================] - 5s 3ms/step - loss: 0.3342 - accuracy: 0.8768 - val_loss: 0.3629 - val_accuracy: 0.8689\n",
            "Epoch 8/10\n",
            "1500/1500 [==============================] - 5s 3ms/step - loss: 0.3237 - accuracy: 0.8798 - val_loss: 0.3797 - val_accuracy: 0.8627\n",
            "Epoch 9/10\n",
            "1500/1500 [==============================] - 5s 3ms/step - loss: 0.3139 - accuracy: 0.8851 - val_loss: 0.3511 - val_accuracy: 0.8773\n",
            "Epoch 10/10\n",
            "1500/1500 [==============================] - 5s 3ms/step - loss: 0.3059 - accuracy: 0.8881 - val_loss: 0.3550 - val_accuracy: 0.8761\n",
            "313/313 [==============================] - 1s 2ms/step - loss: 0.3782 - accuracy: 0.8707\n"
          ]
        },
        {
          "output_type": "execute_result",
          "data": {
            "text/plain": [
              "[0.37821251153945923, 0.8707000017166138]"
            ]
          },
          "metadata": {},
          "execution_count": 7
        }
      ]
    },
    {
      "cell_type": "markdown",
      "source": [
        "**5 слоев**"
      ],
      "metadata": {
        "id": "KBxVDRiXRH4H"
      }
    },
    {
      "cell_type": "code",
      "source": [
        "model = Sequential([\n",
        "      Dense(128, activation='tanh', input_shape=(784,)),\n",
        "      Dense(110, activation='tanh'), # Скрытый слой из 110 нейронов с активацией tanh\n",
        "      Dense(100, activation='tanh'), # Скрытый слой k из 100 нейронов с активацией tanh\n",
        "      Dense(90, activation='tanh'), # Скрытый слой k из 100 нейронов с активацией tanh\n",
        "      Dense(80, activation='tanh'), # Скрытый слой k из 100 нейронов с активацией tanh\n",
        "      Dense(70, activation='tanh'), # Скрытый слой k из 100 нейронов с активацией tanh\n",
        "      Dense(10, activation='softmax'),# выходной слой из 10 нейронов (сколько классов, столько нейронов) + активация softmax\n",
        "    ])\n",
        "\n",
        "    # Compile the model.\n",
        "model.compile(\n",
        "      optimizer='adam',\n",
        "      loss='categorical_crossentropy',\n",
        "      metrics=['accuracy'],\n",
        "    )\n",
        "\n",
        "    # Train the model. Вернем результаты по потерям и метрикам для всех эпох в hh \n",
        "hh = model.fit( \n",
        "      train_images,\n",
        "      to_categorical(train_labelf),\n",
        "      epochs=10,\n",
        "      batch_size=32, validation_split=0.2\n",
        "    )\n",
        "\n",
        "    # Evaluate the model.\n",
        "model.evaluate(\n",
        "      test_images,\n",
        "      to_categorical(test_labelf)\n",
        "    )"
      ],
      "metadata": {
        "colab": {
          "base_uri": "https://localhost:8080/"
        },
        "id": "w0GZWH1NQweW",
        "outputId": "bfdd5707-7792-4671-fe8b-b6be17de4d29"
      },
      "execution_count": null,
      "outputs": [
        {
          "output_type": "stream",
          "name": "stdout",
          "text": [
            "Epoch 1/10\n",
            "1500/1500 [==============================] - 6s 4ms/step - loss: 0.5471 - accuracy: 0.8051 - val_loss: 0.4599 - val_accuracy: 0.8343\n",
            "Epoch 2/10\n",
            "1500/1500 [==============================] - 5s 3ms/step - loss: 0.4364 - accuracy: 0.8418 - val_loss: 0.4216 - val_accuracy: 0.8459\n",
            "Epoch 3/10\n",
            "1500/1500 [==============================] - 5s 3ms/step - loss: 0.4100 - accuracy: 0.8522 - val_loss: 0.4395 - val_accuracy: 0.8401\n",
            "Epoch 4/10\n",
            "1500/1500 [==============================] - 5s 3ms/step - loss: 0.3920 - accuracy: 0.8579 - val_loss: 0.4021 - val_accuracy: 0.8583\n",
            "Epoch 5/10\n",
            "1500/1500 [==============================] - 5s 3ms/step - loss: 0.3779 - accuracy: 0.8636 - val_loss: 0.4566 - val_accuracy: 0.8355\n",
            "Epoch 6/10\n",
            "1500/1500 [==============================] - 5s 3ms/step - loss: 0.3663 - accuracy: 0.8657 - val_loss: 0.4041 - val_accuracy: 0.8509\n",
            "Epoch 7/10\n",
            "1500/1500 [==============================] - 5s 3ms/step - loss: 0.3569 - accuracy: 0.8692 - val_loss: 0.3859 - val_accuracy: 0.8603\n",
            "Epoch 8/10\n",
            "1500/1500 [==============================] - 5s 3ms/step - loss: 0.3456 - accuracy: 0.8734 - val_loss: 0.3952 - val_accuracy: 0.8568\n",
            "Epoch 9/10\n",
            "1500/1500 [==============================] - 5s 3ms/step - loss: 0.3412 - accuracy: 0.8740 - val_loss: 0.3859 - val_accuracy: 0.8624\n",
            "Epoch 10/10\n",
            "1500/1500 [==============================] - 5s 3ms/step - loss: 0.3358 - accuracy: 0.8775 - val_loss: 0.3959 - val_accuracy: 0.8572\n",
            "313/313 [==============================] - 1s 2ms/step - loss: 0.4098 - accuracy: 0.8534\n"
          ]
        },
        {
          "output_type": "execute_result",
          "data": {
            "text/plain": [
              "[0.40979862213134766, 0.8533999919891357]"
            ]
          },
          "metadata": {},
          "execution_count": 8
        }
      ]
    },
    {
      "cell_type": "markdown",
      "source": [
        "**10 слоев**"
      ],
      "metadata": {
        "id": "s9CUJrjgRLBQ"
      }
    },
    {
      "cell_type": "code",
      "source": [
        "model = Sequential([\n",
        "      Dense(128, activation='tanh', input_shape=(784,)),\n",
        "      Dense(110, activation='tanh'), # Скрытый слой из 110 нейронов с активацией tanh\n",
        "      Dense(100, activation='tanh'), # Скрытый слой k из 100 нейронов с активацией tanh\n",
        "      Dense(90, activation='tanh'), # Скрытый слой k из 100 нейронов с активацией tanh\n",
        "      Dense(80, activation='tanh'), # Скрытый слой k из 100 нейронов с активацией tanh\n",
        "      Dense(70, activation='tanh'), # Скрытый слой k из 100 нейронов с активацией tanh\n",
        "      Dense(60, activation='tanh'), # Скрытый слой из 110 нейронов с активацией tanh\n",
        "      Dense(50, activation='tanh'), # Скрытый слой k из 100 нейронов с активацией tanh\n",
        "      Dense(40, activation='tanh'), # Скрытый слой k из 100 нейронов с активацией tanh\n",
        "      Dense(30, activation='tanh'), # Скрытый слой k из 100 нейронов с активацией tanh\n",
        "      Dense(20, activation='tanh'), # Скрытый слой k из 100 нейронов с активацией tanh\n",
        "      Dense(10, activation='softmax'),# выходной слой из 10 нейронов (сколько классов, столько нейронов) + активация softmax\n",
        "    ])\n",
        "\n",
        "    # Compile the model.\n",
        "model.compile(\n",
        "      optimizer='adam',\n",
        "      loss='categorical_crossentropy',\n",
        "      metrics=['accuracy'],\n",
        "    )\n",
        "\n",
        "    # Train the model. Вернем результаты по потерям и метрикам для всех эпох в hh \n",
        "hh = model.fit( \n",
        "      train_images,\n",
        "      to_categorical(train_labelf),\n",
        "      epochs=10,\n",
        "      batch_size=32, validation_split=0.2\n",
        "    )\n",
        "\n",
        "    # Evaluate the model.\n",
        "model.evaluate(\n",
        "      test_images,\n",
        "      to_categorical(test_labelf)\n",
        "    )"
      ],
      "metadata": {
        "colab": {
          "base_uri": "https://localhost:8080/"
        },
        "id": "CUTWJDQDQ2r_",
        "outputId": "b2f38cca-4d35-4ffa-a81b-30db8951a47f"
      },
      "execution_count": null,
      "outputs": [
        {
          "output_type": "stream",
          "name": "stdout",
          "text": [
            "Epoch 1/10\n",
            "1500/1500 [==============================] - 7s 4ms/step - loss: 0.6492 - accuracy: 0.7842 - val_loss: 0.5600 - val_accuracy: 0.7963\n",
            "Epoch 2/10\n",
            "1500/1500 [==============================] - 6s 4ms/step - loss: 0.4913 - accuracy: 0.8294 - val_loss: 0.5063 - val_accuracy: 0.8219\n",
            "Epoch 3/10\n",
            "1500/1500 [==============================] - 6s 4ms/step - loss: 0.4617 - accuracy: 0.8389 - val_loss: 0.4693 - val_accuracy: 0.8347\n",
            "Epoch 4/10\n",
            "1500/1500 [==============================] - 6s 4ms/step - loss: 0.4454 - accuracy: 0.8438 - val_loss: 0.4685 - val_accuracy: 0.8305\n",
            "Epoch 5/10\n",
            "1500/1500 [==============================] - 6s 4ms/step - loss: 0.4326 - accuracy: 0.8488 - val_loss: 0.4271 - val_accuracy: 0.8488\n",
            "Epoch 6/10\n",
            "1500/1500 [==============================] - 6s 4ms/step - loss: 0.4295 - accuracy: 0.8492 - val_loss: 0.4361 - val_accuracy: 0.8438\n",
            "Epoch 7/10\n",
            "1500/1500 [==============================] - 6s 4ms/step - loss: 0.4136 - accuracy: 0.8562 - val_loss: 0.4720 - val_accuracy: 0.8345\n",
            "Epoch 8/10\n",
            "1500/1500 [==============================] - 6s 4ms/step - loss: 0.4050 - accuracy: 0.8562 - val_loss: 0.4183 - val_accuracy: 0.8535\n",
            "Epoch 9/10\n",
            "1500/1500 [==============================] - 6s 4ms/step - loss: 0.3948 - accuracy: 0.8615 - val_loss: 0.4449 - val_accuracy: 0.8471\n",
            "Epoch 10/10\n",
            "1500/1500 [==============================] - 6s 4ms/step - loss: 0.3953 - accuracy: 0.8604 - val_loss: 0.4209 - val_accuracy: 0.8531\n",
            "313/313 [==============================] - 1s 2ms/step - loss: 0.4415 - accuracy: 0.8482\n"
          ]
        },
        {
          "output_type": "execute_result",
          "data": {
            "text/plain": [
              "[0.4415418803691864, 0.8482000231742859]"
            ]
          },
          "metadata": {},
          "execution_count": 9
        }
      ]
    },
    {
      "cell_type": "markdown",
      "source": [
        "Как видим чем больше слоев тем меньше accuracy, это связно с тем, что чем больше слоев тем больше работает сама модель проходя через каждый нейрон, тем самым выделяя мелочи. На самом деле нужно между слоями добавить Dropout, для того что бы отключать половину нейронов и модель не запоминала все."
      ],
      "metadata": {
        "id": "0PvONrnRSYxI"
      }
    },
    {
      "cell_type": "markdown",
      "source": [
        "**SGD,RMSProp,adam,NAdam**"
      ],
      "metadata": {
        "id": "_tztLY3iVIBo"
      }
    },
    {
      "cell_type": "code",
      "source": [
        "test2 = {}\n",
        "for i in ['SGD','RMSProp','adam','NAdam']:\n",
        "  model = Sequential([\n",
        "      Dense(128, activation='tanh', input_shape=(784,)),\n",
        "      Dense(110, activation='tanh'), # Скрытый слой из 110 нейронов с активацией tanh\n",
        "      Dense(100, activation='tanh'), # Скрытый слой k из 100 нейронов с активацией tanh\n",
        "      Dense(90, activation='tanh'), # Скрытый слой k из 100 нейронов с активацией tanh\n",
        "      Dense(10, activation='softmax'),# выходной слой из 10 нейронов (сколько классов, столько нейронов) + активация softmax\n",
        "    ])\n",
        "\n",
        "    # Compile the model.\n",
        "  model.compile(\n",
        "      optimizer=i,\n",
        "      loss='categorical_crossentropy',\n",
        "      metrics=['accuracy'],\n",
        "    )\n",
        "\n",
        "    # Train the model. Вернем результаты по потерям и метрикам для всех эпох в hh \n",
        "  hh = model.fit( \n",
        "      train_images,\n",
        "      to_categorical(train_labelf),\n",
        "      epochs=10,\n",
        "      batch_size=32, validation_split=0.2\n",
        "    )\n",
        "\n",
        "    # Evaluate the model.\n",
        "  model.evaluate(\n",
        "      test_images,\n",
        "      to_categorical(test_labelf)\n",
        "    )\n",
        "\n",
        "  test2[f'{i}'] = hh.history['accuracy'][9]"
      ],
      "metadata": {
        "colab": {
          "base_uri": "https://localhost:8080/"
        },
        "id": "woCnVomgTvkw",
        "outputId": "4a7f43cb-52ba-4e29-ad70-0bbfd863808b"
      },
      "execution_count": null,
      "outputs": [
        {
          "output_type": "stream",
          "name": "stdout",
          "text": [
            "Epoch 1/10\n",
            "1500/1500 [==============================] - 4s 3ms/step - loss: 0.6362 - accuracy: 0.7881 - val_loss: 0.4769 - val_accuracy: 0.8322\n",
            "Epoch 2/10\n",
            "1500/1500 [==============================] - 4s 2ms/step - loss: 0.4367 - accuracy: 0.8444 - val_loss: 0.4133 - val_accuracy: 0.8516\n",
            "Epoch 3/10\n",
            "1500/1500 [==============================] - 4s 2ms/step - loss: 0.3939 - accuracy: 0.8592 - val_loss: 0.4114 - val_accuracy: 0.8517\n",
            "Epoch 4/10\n",
            "1500/1500 [==============================] - 4s 2ms/step - loss: 0.3678 - accuracy: 0.8680 - val_loss: 0.3745 - val_accuracy: 0.8663\n",
            "Epoch 5/10\n",
            "1500/1500 [==============================] - 4s 2ms/step - loss: 0.3474 - accuracy: 0.8757 - val_loss: 0.3717 - val_accuracy: 0.8610\n",
            "Epoch 6/10\n",
            "1500/1500 [==============================] - 4s 2ms/step - loss: 0.3322 - accuracy: 0.8793 - val_loss: 0.3528 - val_accuracy: 0.8712\n",
            "Epoch 7/10\n",
            "1500/1500 [==============================] - 4s 3ms/step - loss: 0.3191 - accuracy: 0.8847 - val_loss: 0.3597 - val_accuracy: 0.8698\n",
            "Epoch 8/10\n",
            "1500/1500 [==============================] - 4s 2ms/step - loss: 0.3080 - accuracy: 0.8890 - val_loss: 0.3491 - val_accuracy: 0.8730\n",
            "Epoch 9/10\n",
            "1500/1500 [==============================] - 4s 3ms/step - loss: 0.2972 - accuracy: 0.8928 - val_loss: 0.3366 - val_accuracy: 0.8772\n",
            "Epoch 10/10\n",
            "1500/1500 [==============================] - 4s 3ms/step - loss: 0.2881 - accuracy: 0.8940 - val_loss: 0.3301 - val_accuracy: 0.8813\n",
            "313/313 [==============================] - 1s 2ms/step - loss: 0.3544 - accuracy: 0.8726\n",
            "Epoch 1/10\n",
            "1500/1500 [==============================] - 6s 3ms/step - loss: 0.5381 - accuracy: 0.8059 - val_loss: 0.4342 - val_accuracy: 0.8374\n",
            "Epoch 2/10\n",
            "1500/1500 [==============================] - 5s 3ms/step - loss: 0.4109 - accuracy: 0.8484 - val_loss: 0.4569 - val_accuracy: 0.8353\n",
            "Epoch 3/10\n",
            "1500/1500 [==============================] - 5s 3ms/step - loss: 0.3729 - accuracy: 0.8635 - val_loss: 0.3829 - val_accuracy: 0.8576\n",
            "Epoch 4/10\n",
            "1500/1500 [==============================] - 5s 3ms/step - loss: 0.3493 - accuracy: 0.8722 - val_loss: 0.3844 - val_accuracy: 0.8566\n",
            "Epoch 5/10\n",
            "1500/1500 [==============================] - 5s 3ms/step - loss: 0.3330 - accuracy: 0.8780 - val_loss: 0.3630 - val_accuracy: 0.8722\n",
            "Epoch 6/10\n",
            "1500/1500 [==============================] - 5s 3ms/step - loss: 0.3170 - accuracy: 0.8820 - val_loss: 0.3670 - val_accuracy: 0.8730\n",
            "Epoch 7/10\n",
            "1500/1500 [==============================] - 5s 3ms/step - loss: 0.3090 - accuracy: 0.8880 - val_loss: 0.3616 - val_accuracy: 0.8717\n",
            "Epoch 8/10\n",
            "1500/1500 [==============================] - 5s 3ms/step - loss: 0.3008 - accuracy: 0.8890 - val_loss: 0.3592 - val_accuracy: 0.8746\n",
            "Epoch 9/10\n",
            "1500/1500 [==============================] - 5s 3ms/step - loss: 0.2909 - accuracy: 0.8920 - val_loss: 0.3661 - val_accuracy: 0.8739\n",
            "Epoch 10/10\n",
            "1500/1500 [==============================] - 5s 3ms/step - loss: 0.2830 - accuracy: 0.8949 - val_loss: 0.3502 - val_accuracy: 0.8760\n",
            "313/313 [==============================] - 1s 2ms/step - loss: 0.3776 - accuracy: 0.8670\n",
            "Epoch 1/10\n",
            "1500/1500 [==============================] - 5s 3ms/step - loss: 0.5116 - accuracy: 0.8141 - val_loss: 0.4642 - val_accuracy: 0.8332\n",
            "Epoch 2/10\n",
            "1500/1500 [==============================] - 5s 3ms/step - loss: 0.4099 - accuracy: 0.8524 - val_loss: 0.3936 - val_accuracy: 0.8572\n",
            "Epoch 3/10\n",
            "1500/1500 [==============================] - 5s 3ms/step - loss: 0.3801 - accuracy: 0.8594 - val_loss: 0.3975 - val_accuracy: 0.8561\n",
            "Epoch 4/10\n",
            "1500/1500 [==============================] - 5s 3ms/step - loss: 0.3613 - accuracy: 0.8685 - val_loss: 0.3843 - val_accuracy: 0.8578\n",
            "Epoch 5/10\n",
            "1500/1500 [==============================] - 4s 3ms/step - loss: 0.3482 - accuracy: 0.8715 - val_loss: 0.3989 - val_accuracy: 0.8555\n",
            "Epoch 6/10\n",
            "1500/1500 [==============================] - 4s 3ms/step - loss: 0.3399 - accuracy: 0.8745 - val_loss: 0.3900 - val_accuracy: 0.8583\n",
            "Epoch 7/10\n",
            "1500/1500 [==============================] - 5s 3ms/step - loss: 0.3340 - accuracy: 0.8765 - val_loss: 0.3695 - val_accuracy: 0.8683\n",
            "Epoch 8/10\n",
            "1500/1500 [==============================] - 5s 3ms/step - loss: 0.3221 - accuracy: 0.8803 - val_loss: 0.3755 - val_accuracy: 0.8644\n",
            "Epoch 9/10\n",
            "1500/1500 [==============================] - 4s 3ms/step - loss: 0.3169 - accuracy: 0.8841 - val_loss: 0.3660 - val_accuracy: 0.8691\n",
            "Epoch 10/10\n",
            "1500/1500 [==============================] - 5s 3ms/step - loss: 0.3108 - accuracy: 0.8861 - val_loss: 0.3647 - val_accuracy: 0.8702\n",
            "313/313 [==============================] - 1s 2ms/step - loss: 0.3932 - accuracy: 0.8624\n",
            "Epoch 1/10\n",
            "1500/1500 [==============================] - 7s 4ms/step - loss: 0.5003 - accuracy: 0.8201 - val_loss: 0.4058 - val_accuracy: 0.8572\n",
            "Epoch 2/10\n",
            "1500/1500 [==============================] - 6s 4ms/step - loss: 0.3913 - accuracy: 0.8584 - val_loss: 0.3825 - val_accuracy: 0.8597\n",
            "Epoch 3/10\n",
            "1500/1500 [==============================] - 6s 4ms/step - loss: 0.3609 - accuracy: 0.8666 - val_loss: 0.4293 - val_accuracy: 0.8401\n",
            "Epoch 4/10\n",
            "1500/1500 [==============================] - 6s 4ms/step - loss: 0.3429 - accuracy: 0.8742 - val_loss: 0.3588 - val_accuracy: 0.8685\n",
            "Epoch 5/10\n",
            "1500/1500 [==============================] - 6s 4ms/step - loss: 0.3322 - accuracy: 0.8789 - val_loss: 0.3733 - val_accuracy: 0.8673\n",
            "Epoch 6/10\n",
            "1500/1500 [==============================] - 6s 4ms/step - loss: 0.3221 - accuracy: 0.8815 - val_loss: 0.3555 - val_accuracy: 0.8700\n",
            "Epoch 7/10\n",
            "1500/1500 [==============================] - 6s 4ms/step - loss: 0.3149 - accuracy: 0.8856 - val_loss: 0.3626 - val_accuracy: 0.8687\n",
            "Epoch 8/10\n",
            "1500/1500 [==============================] - 6s 4ms/step - loss: 0.3042 - accuracy: 0.8882 - val_loss: 0.3630 - val_accuracy: 0.8728\n",
            "Epoch 9/10\n",
            "1500/1500 [==============================] - 6s 4ms/step - loss: 0.3012 - accuracy: 0.8904 - val_loss: 0.3530 - val_accuracy: 0.8743\n",
            "Epoch 10/10\n",
            "1500/1500 [==============================] - 6s 4ms/step - loss: 0.2951 - accuracy: 0.8929 - val_loss: 0.3581 - val_accuracy: 0.8737\n",
            "313/313 [==============================] - 1s 2ms/step - loss: 0.3813 - accuracy: 0.8681\n"
          ]
        }
      ]
    },
    {
      "cell_type": "code",
      "source": [
        "test2"
      ],
      "metadata": {
        "colab": {
          "base_uri": "https://localhost:8080/"
        },
        "id": "7pn67ZxcUJ3Y",
        "outputId": "95a1a444-4b32-42dc-9075-1e68f5a2421b"
      },
      "execution_count": null,
      "outputs": [
        {
          "output_type": "execute_result",
          "data": {
            "text/plain": [
              "{'NAdam': 0.8929374814033508,\n",
              " 'RMSProp': 0.8949375152587891,\n",
              " 'SGD': 0.8940416574478149,\n",
              " 'adam': 0.886104166507721}"
            ]
          },
          "metadata": {},
          "execution_count": 11
        }
      ]
    },
    {
      "cell_type": "markdown",
      "source": [
        "**Матрица ошибок по классам**"
      ],
      "metadata": {
        "id": "EBT5SJdbXmKh"
      }
    },
    {
      "cell_type": "code",
      "source": [
        "model = Sequential([\n",
        "      Dense(128, activation='tanh', input_shape=(784,)),\n",
        "      Dense(110, activation='tanh'), # Скрытый слой из 110 нейронов с активацией tanh\n",
        "      Dense(100, activation='tanh'), # Скрытый слой k из 100 нейронов с активацией tanh\n",
        "      Dense(90, activation='tanh'), # Скрытый слой k из 100 нейронов с активацией tanh\n",
        "      Dense(10, activation='softmax'),# выходной слой из 10 нейронов (сколько классов, столько нейронов) + активация softmax\n",
        "    ])\n",
        "\n",
        "    # Compile the model.\n",
        "model.compile(\n",
        "      optimizer='adam',\n",
        "      loss='categorical_crossentropy',\n",
        "      metrics=['accuracy'],\n",
        "    )\n",
        "\n",
        "    # Train the model. Вернем результаты по потерям и метрикам для всех эпох в hh \n",
        "hh = model.fit( \n",
        "      train_images,\n",
        "      to_categorical(train_labelf),\n",
        "      epochs=10,\n",
        "      batch_size=32, validation_split=0.2\n",
        "    )\n",
        "\n",
        "    # Evaluate the model.\n",
        "model.evaluate(\n",
        "      test_images,\n",
        "      to_categorical(test_labelf)\n",
        "    )"
      ],
      "metadata": {
        "colab": {
          "base_uri": "https://localhost:8080/"
        },
        "id": "OXlprglJVjcQ",
        "outputId": "cdd57eff-ec1b-49ff-bed7-8426aba59b52"
      },
      "execution_count": null,
      "outputs": [
        {
          "output_type": "stream",
          "name": "stdout",
          "text": [
            "Epoch 1/10\n",
            "1500/1500 [==============================] - 5s 3ms/step - loss: 0.5182 - accuracy: 0.8121 - val_loss: 0.4342 - val_accuracy: 0.8416\n",
            "Epoch 2/10\n",
            "1500/1500 [==============================] - 4s 3ms/step - loss: 0.4122 - accuracy: 0.8500 - val_loss: 0.4202 - val_accuracy: 0.8491\n",
            "Epoch 3/10\n",
            "1500/1500 [==============================] - 5s 3ms/step - loss: 0.3855 - accuracy: 0.8597 - val_loss: 0.4067 - val_accuracy: 0.8508\n",
            "Epoch 4/10\n",
            "1500/1500 [==============================] - 5s 3ms/step - loss: 0.3662 - accuracy: 0.8667 - val_loss: 0.3810 - val_accuracy: 0.8627\n",
            "Epoch 5/10\n",
            "1500/1500 [==============================] - 4s 3ms/step - loss: 0.3528 - accuracy: 0.8704 - val_loss: 0.3878 - val_accuracy: 0.8596\n",
            "Epoch 6/10\n",
            "1500/1500 [==============================] - 4s 3ms/step - loss: 0.3414 - accuracy: 0.8749 - val_loss: 0.3894 - val_accuracy: 0.8569\n",
            "Epoch 7/10\n",
            "1500/1500 [==============================] - 5s 3ms/step - loss: 0.3303 - accuracy: 0.8792 - val_loss: 0.3633 - val_accuracy: 0.8673\n",
            "Epoch 8/10\n",
            "1500/1500 [==============================] - 5s 3ms/step - loss: 0.3233 - accuracy: 0.8800 - val_loss: 0.4011 - val_accuracy: 0.8538\n",
            "Epoch 9/10\n",
            "1500/1500 [==============================] - 5s 3ms/step - loss: 0.3231 - accuracy: 0.8819 - val_loss: 0.3564 - val_accuracy: 0.8689\n",
            "Epoch 10/10\n",
            "1500/1500 [==============================] - 4s 3ms/step - loss: 0.3091 - accuracy: 0.8863 - val_loss: 0.3558 - val_accuracy: 0.8736\n",
            "313/313 [==============================] - 1s 2ms/step - loss: 0.3785 - accuracy: 0.8664\n"
          ]
        },
        {
          "output_type": "execute_result",
          "data": {
            "text/plain": [
              "[0.37850844860076904, 0.8664000034332275]"
            ]
          },
          "metadata": {},
          "execution_count": 12
        }
      ]
    },
    {
      "cell_type": "code",
      "source": [
        "y_pred = model.predict(test_images).argmax(axis=1)\n",
        "r = sklearn.metrics.confusion_matrix(test_labelf, y_pred)\n",
        "r"
      ],
      "metadata": {
        "colab": {
          "base_uri": "https://localhost:8080/"
        },
        "id": "hF5om4bFWUsI",
        "outputId": "ec9839d4-8c79-4d0c-c671-d642ae2d1755"
      },
      "execution_count": null,
      "outputs": [
        {
          "output_type": "execute_result",
          "data": {
            "text/plain": [
              "array([[816,   0,  17,  43,   0,   2, 112,   0,  10,   0],\n",
              "       [  3, 960,   0,  30,   2,   0,   5,   0,   0,   0],\n",
              "       [ 20,   3, 755,  15, 129,   1,  75,   0,   2,   0],\n",
              "       [ 23,  11,   9, 905,  20,   0,  29,   0,   3,   0],\n",
              "       [  0,   1,  72,  49, 806,   0,  68,   0,   4,   0],\n",
              "       [  0,   0,   0,   1,   0, 935,   0,  32,   3,  29],\n",
              "       [128,   1,  71,  41,  98,   0, 648,   0,  13,   0],\n",
              "       [  0,   0,   0,   0,   0,  30,   0, 950,   1,  19],\n",
              "       [  1,   1,   6,   6,   6,   9,   9,   6, 956,   0],\n",
              "       [  1,   0,   0,   0,   0,   9,   0,  57,   0, 933]])"
            ]
          },
          "metadata": {},
          "execution_count": 13
        }
      ]
    }
  ]
}